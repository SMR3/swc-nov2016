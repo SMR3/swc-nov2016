{
 "cells": [
  {
   "cell_type": "markdown",
   "metadata": {},
   "source": [
    "# Programming in Python\n"
   ]
  },
  {
   "cell_type": "markdown",
   "metadata": {},
   "source": [
    "## 1. Getting to know Python"
   ]
  },
  {
   "cell_type": "markdown",
   "metadata": {},
   "source": [
    "### Different ways to interact with Python\n",
    " 1. Using the interpreter (for instance `ipython`)\n",
    " 2. Using the `jupyter notebook`\n",
    " 3. Writing and executing programs (`python myProgram.py`)"
   ]
  },
  {
   "cell_type": "markdown",
   "metadata": {},
   "source": [
    "### Python language elements"
   ]
  },
  {
   "cell_type": "markdown",
   "metadata": {},
   "source": [
    " #### Python as a calculator \n",
    "   * operations \n",
    "   * math functions"
   ]
  },
  {
   "cell_type": "code",
   "execution_count": 11,
   "metadata": {
    "collapsed": false
   },
   "outputs": [
    {
     "name": "stdout",
     "output_type": "stream",
     "text": [
      "(0.362357754477+0.932039085967j)\n"
     ]
    }
   ],
   "source": [
    "import cmath\n",
    "import math\n",
    "x = 1.2\n",
    "y = cmath.exp(1j* x)\n",
    "z = math.exp(x)\n",
    "print(y)"
   ]
  },
  {
   "cell_type": "markdown",
   "metadata": {},
   "source": [
    "#### numbers and other data types\n",
    " * integers\n",
    " * floats\n",
    " * Booleans"
   ]
  },
  {
   "cell_type": "code",
   "execution_count": 15,
   "metadata": {
    "collapsed": false
   },
   "outputs": [
    {
     "data": {
      "text/plain": [
       "bool"
      ]
     },
     "execution_count": 15,
     "metadata": {},
     "output_type": "execute_result"
    }
   ],
   "source": [
    "x = 1.2\n",
    "type(x > 1)"
   ]
  },
  {
   "cell_type": "markdown",
   "metadata": {},
   "source": [
    "#### working with strings \n",
    " * single line\n",
    " * extending obver several lines\n",
    " * converting numbers to string"
   ]
  },
  {
   "cell_type": "code",
   "execution_count": 75,
   "metadata": {
    "collapsed": false
   },
   "outputs": [
    {
     "name": "stdout",
     "output_type": "stream",
     "text": [
      "many lines\n"
     ]
    }
   ],
   "source": [
    "s = '''writing over many lines'''\n",
    "print(s[-10:])"
   ]
  },
  {
   "cell_type": "markdown",
   "metadata": {},
   "source": [
    "#### packing things together -- lists and tuples\n",
    " * length\n",
    " * indexing \n",
    " * slicing"
   ]
  },
  {
   "cell_type": "code",
   "execution_count": 34,
   "metadata": {
    "collapsed": false
   },
   "outputs": [
    {
     "name": "stdout",
     "output_type": "stream",
     "text": [
      "[1, [1, 1], [1, 2, 1], [1, 3, 6, 3, 1]]\n"
     ]
    }
   ],
   "source": [
    "lst = [1,[1,1], [1,2, 1], [1, 3, 6, 3, 1]]\n",
    "print(lst)"
   ]
  },
  {
   "cell_type": "code",
   "execution_count": 43,
   "metadata": {
    "collapsed": false
   },
   "outputs": [
    {
     "data": {
      "text/plain": [
       "2"
      ]
     },
     "execution_count": 43,
     "metadata": {},
     "output_type": "execute_result"
    }
   ],
   "source": [
    "lst[2][1]"
   ]
  },
  {
   "cell_type": "markdown",
   "metadata": {},
   "source": [
    "#### accessing values by keys -- dictionaries\n",
    " * example"
   ]
  },
  {
   "cell_type": "code",
   "execution_count": 45,
   "metadata": {
    "collapsed": false
   },
   "outputs": [
    {
     "data": {
      "text/plain": [
       "1976"
      ]
     },
     "execution_count": 45,
     "metadata": {},
     "output_type": "execute_result"
    }
   ],
   "source": [
    "d = {'Jonny': 1987, 'Anne': 1976}\n",
    "d['Anne'] # expect to get 1976 back"
   ]
  },
  {
   "cell_type": "markdown",
   "metadata": {},
   "source": [
    " #### storing data in **variables**\n",
    "  * setting and retrieving "
   ]
  },
  {
   "cell_type": "markdown",
   "metadata": {},
   "source": [
    " #### printing\n",
    "  * default print\n",
    "  * formatted print"
   ]
  },
  {
   "cell_type": "markdown",
   "metadata": {},
   "source": [
    " #### **Identation** is part of the language!\n",
    "   * loops\n",
    "   * conditionals\n",
    "   * scoping"
   ]
  },
  {
   "cell_type": "code",
   "execution_count": 53,
   "metadata": {
    "collapsed": false
   },
   "outputs": [
    {
     "data": {
      "text/plain": [
       "8"
      ]
     },
     "execution_count": 53,
     "metadata": {},
     "output_type": "execute_result"
    }
   ],
   "source": [
    "def foo(x, y=10):\n",
    "    # do stuff\n",
    "    return x*y\n",
    "\n",
    "foo(2, 4)"
   ]
  },
  {
   "cell_type": "markdown",
   "metadata": {},
   "source": [
    "#### functions"
   ]
  },
  {
   "cell_type": "markdown",
   "metadata": {},
   "source": [
    "#### comments"
   ]
  },
  {
   "cell_type": "markdown",
   "metadata": {},
   "source": [
    "### Common pitfalls\n",
    " * watch out for indentation\n",
    " * comparing floats may yield unintented consequences\n",
    " * integer division (//) vs division (/)\n",
    " * in place vs function that return new objects"
   ]
  },
  {
   "cell_type": "markdown",
   "metadata": {},
   "source": [
    "## 2. Python with batteries charged"
   ]
  },
  {
   "cell_type": "markdown",
   "metadata": {},
   "source": [
    "### Numpy for fast array operations (Matlab and IDL users pay attention)"
   ]
  },
  {
   "cell_type": "markdown",
   "metadata": {},
   "source": [
    "$$\\frac{\\partial f}{\\partial t} + u \\frac{\\partial f}{\\partial x} = 0$$\n",
    "$$f_i^{t + \\Delta t} = (1 - C) f_i^t + C f_{i-1}^t$$ with $$C \\equiv \\frac{u \\Delta t}{\\Delta x}$$\n",
    "\n",
    "Up-wind implementation:\n",
    "\n",
    "`newf[i] = (1 - c)*f[i] + c*f[i - 1]` for $i \\in 1...n-1$\n",
    "\n",
    "`newf[0] = (1 - c)*f[0] + c*f[-1]` (assuming periodic boundary conditions)"
   ]
  },
  {
   "cell_type": "code",
   "execution_count": 17,
   "metadata": {
    "collapsed": false
   },
   "outputs": [],
   "source": [
    "import numpy\n",
    "\n",
    "# code to advance function f starting from initial \n",
    "# condition f0\n",
    "#\n",
    "def advance(f0, c, nt=10):\n",
    "    \"\"\"\n",
    "    Advance the function \n",
    "    f0  initial condition\n",
    "    c   Courant coefficient\n",
    "    nt  number of time steps\n",
    "    \"\"\"\n",
    "    f = f0.copy()\n",
    "    for i in range(nt):\n",
    "        newf = (1 - c) * f\n",
    "        newf[1:] += c * f[:-1]\n",
    "        # updating the first cell taking the last cell previous value\n",
    "        # (periodic boundary conditions)\n",
    "        newf[0] + c * f[-1]\n",
    "        # copy\n",
    "        f[:] = newf\n",
    "    return f\n",
    "\n",
    "\n",
    "n = 1000\n",
    "f0 = numpy.zeros([n], numpy.float64) # initial condition\n",
    "f0[0:n//4] = 1.\n",
    "advance(f0, 0.99, nt=500)\n",
    "\n",
    "# plotting\n",
    "% matplotlib inline\n",
    "from matplotlib import pylab\n",
    "pylab.plot(x, f0, 'g-')\n"
   ]
  },
  {
   "cell_type": "markdown",
   "metadata": {},
   "source": [
    "### Pandas for data analysis (R users pay attention)"
   ]
  },
  {
   "cell_type": "markdown",
   "metadata": {},
   "source": [
    "What the relation between prosperity and latitude?\n",
    " * Look at GDP data for a number of cities around the world\n",
    " * Get the population and the latitude data for these cities\n",
    " * Compute the GDP per capita for each city\n",
    " * plot GDP per capita data against the latitude of each city"
   ]
  },
  {
   "cell_type": "code",
   "execution_count": 2,
   "metadata": {
    "collapsed": false
   },
   "outputs": [],
   "source": [
    "import pandas \n",
    "gdp = pandas.read_csv('http://bit.ly/citiesGDP')"
   ]
  },
  {
   "cell_type": "code",
   "execution_count": 3,
   "metadata": {
    "collapsed": false
   },
   "outputs": [
    {
     "name": "stdout",
     "output_type": "stream",
     "text": [
      "Index([u'Rank', u'City/Urban area', u'Country', u'GDP in US$bn 2005'], dtype='object')\n"
     ]
    },
    {
     "data": {
      "text/html": [
       "<div>\n",
       "<table border=\"1\" class=\"dataframe\">\n",
       "  <thead>\n",
       "    <tr style=\"text-align: right;\">\n",
       "      <th></th>\n",
       "      <th>Rank</th>\n",
       "      <th>City/Urban area</th>\n",
       "      <th>Country</th>\n",
       "      <th>GDP in US$bn 2005</th>\n",
       "    </tr>\n",
       "  </thead>\n",
       "  <tbody>\n",
       "    <tr>\n",
       "      <th>0</th>\n",
       "      <td>1</td>\n",
       "      <td>Tokyo</td>\n",
       "      <td>Japan</td>\n",
       "      <td>1191</td>\n",
       "    </tr>\n",
       "    <tr>\n",
       "      <th>1</th>\n",
       "      <td>2</td>\n",
       "      <td>New York</td>\n",
       "      <td>USA</td>\n",
       "      <td>1133</td>\n",
       "    </tr>\n",
       "    <tr>\n",
       "      <th>2</th>\n",
       "      <td>3</td>\n",
       "      <td>Los Angeles</td>\n",
       "      <td>USA</td>\n",
       "      <td>639</td>\n",
       "    </tr>\n",
       "    <tr>\n",
       "      <th>3</th>\n",
       "      <td>4</td>\n",
       "      <td>Chicago</td>\n",
       "      <td>USA</td>\n",
       "      <td>460</td>\n",
       "    </tr>\n",
       "    <tr>\n",
       "      <th>4</th>\n",
       "      <td>5</td>\n",
       "      <td>Paris</td>\n",
       "      <td>France</td>\n",
       "      <td>460</td>\n",
       "    </tr>\n",
       "    <tr>\n",
       "      <th>5</th>\n",
       "      <td>6</td>\n",
       "      <td>London</td>\n",
       "      <td>UK</td>\n",
       "      <td>452</td>\n",
       "    </tr>\n",
       "    <tr>\n",
       "      <th>6</th>\n",
       "      <td>7</td>\n",
       "      <td>Osaka/Kobe</td>\n",
       "      <td>Japan</td>\n",
       "      <td>341</td>\n",
       "    </tr>\n",
       "    <tr>\n",
       "      <th>7</th>\n",
       "      <td>8</td>\n",
       "      <td>Mexico City</td>\n",
       "      <td>Mexico</td>\n",
       "      <td>315</td>\n",
       "    </tr>\n",
       "    <tr>\n",
       "      <th>8</th>\n",
       "      <td>9</td>\n",
       "      <td>Philadelphia</td>\n",
       "      <td>USA</td>\n",
       "      <td>312</td>\n",
       "    </tr>\n",
       "    <tr>\n",
       "      <th>9</th>\n",
       "      <td>10</td>\n",
       "      <td>Washington DC</td>\n",
       "      <td>USA</td>\n",
       "      <td>299</td>\n",
       "    </tr>\n",
       "  </tbody>\n",
       "</table>\n",
       "</div>"
      ],
      "text/plain": [
       "   Rank City/Urban area Country  GDP in US$bn 2005\n",
       "0     1           Tokyo   Japan               1191\n",
       "1     2        New York     USA               1133\n",
       "2     3     Los Angeles     USA                639\n",
       "3     4         Chicago     USA                460\n",
       "4     5           Paris  France                460\n",
       "5     6          London      UK                452\n",
       "6     7      Osaka/Kobe   Japan                341\n",
       "7     8     Mexico City  Mexico                315\n",
       "8     9    Philadelphia     USA                312\n",
       "9    10   Washington DC     USA                299"
      ]
     },
     "execution_count": 3,
     "metadata": {},
     "output_type": "execute_result"
    }
   ],
   "source": [
    "# show the first few rows\n",
    "print(gdp.columns)\n",
    "gdp.head(10)\n"
   ]
  },
  {
   "cell_type": "code",
   "execution_count": 4,
   "metadata": {
    "collapsed": false
   },
   "outputs": [],
   "source": [
    "# renaming columns"
   ]
  },
  {
   "cell_type": "code",
   "execution_count": 19,
   "metadata": {
    "collapsed": false
   },
   "outputs": [
    {
     "data": {
      "text/html": [
       "<div>\n",
       "<table border=\"1\" class=\"dataframe\">\n",
       "  <thead>\n",
       "    <tr style=\"text-align: right;\">\n",
       "      <th></th>\n",
       "      <th>City/Urban area</th>\n",
       "      <th>Country</th>\n",
       "    </tr>\n",
       "  </thead>\n",
       "  <tbody>\n",
       "    <tr>\n",
       "      <th>0</th>\n",
       "      <td>Tokyo</td>\n",
       "      <td>Japan</td>\n",
       "    </tr>\n",
       "    <tr>\n",
       "      <th>1</th>\n",
       "      <td>New York</td>\n",
       "      <td>USA</td>\n",
       "    </tr>\n",
       "    <tr>\n",
       "      <th>2</th>\n",
       "      <td>Los Angeles</td>\n",
       "      <td>USA</td>\n",
       "    </tr>\n",
       "  </tbody>\n",
       "</table>\n",
       "</div>"
      ],
      "text/plain": [
       "  City/Urban area Country\n",
       "0           Tokyo   Japan\n",
       "1        New York     USA\n",
       "2     Los Angeles     USA"
      ]
     },
     "execution_count": 19,
     "metadata": {},
     "output_type": "execute_result"
    }
   ],
   "source": [
    "# select the cities for which the GDP > $1000bn\n",
    "mask = gdp.loc[:, 'GDP in US$bn 2005'] > 500\n",
    "gdp.loc[mask, ['City/Urban area', \"Country\"]].head()"
   ]
  },
  {
   "cell_type": "code",
   "execution_count": 83,
   "metadata": {
    "collapsed": false
   },
   "outputs": [
    {
     "data": {
      "text/html": [
       "<div>\n",
       "<table border=\"1\" class=\"dataframe\">\n",
       "  <thead>\n",
       "    <tr style=\"text-align: right;\">\n",
       "      <th></th>\n",
       "      <th>city</th>\n",
       "      <th>city_ascii</th>\n",
       "      <th>lat</th>\n",
       "      <th>lng</th>\n",
       "      <th>pop</th>\n",
       "      <th>country</th>\n",
       "      <th>iso2</th>\n",
       "      <th>iso3</th>\n",
       "      <th>province</th>\n",
       "    </tr>\n",
       "  </thead>\n",
       "  <tbody>\n",
       "    <tr>\n",
       "      <th>0</th>\n",
       "      <td>Qal eh-ye Now</td>\n",
       "      <td>Qal eh-ye</td>\n",
       "      <td>34.983000</td>\n",
       "      <td>63.133300</td>\n",
       "      <td>2997.0</td>\n",
       "      <td>Afghanistan</td>\n",
       "      <td>AF</td>\n",
       "      <td>AFG</td>\n",
       "      <td>Badghis</td>\n",
       "    </tr>\n",
       "    <tr>\n",
       "      <th>1</th>\n",
       "      <td>Chaghcharan</td>\n",
       "      <td>Chaghcharan</td>\n",
       "      <td>34.516701</td>\n",
       "      <td>65.250001</td>\n",
       "      <td>15000.0</td>\n",
       "      <td>Afghanistan</td>\n",
       "      <td>AF</td>\n",
       "      <td>AFG</td>\n",
       "      <td>Ghor</td>\n",
       "    </tr>\n",
       "    <tr>\n",
       "      <th>2</th>\n",
       "      <td>Lashkar Gah</td>\n",
       "      <td>Lashkar Gah</td>\n",
       "      <td>31.582998</td>\n",
       "      <td>64.360000</td>\n",
       "      <td>201546.0</td>\n",
       "      <td>Afghanistan</td>\n",
       "      <td>AF</td>\n",
       "      <td>AFG</td>\n",
       "      <td>Hilmand</td>\n",
       "    </tr>\n",
       "    <tr>\n",
       "      <th>3</th>\n",
       "      <td>Zaranj</td>\n",
       "      <td>Zaranj</td>\n",
       "      <td>31.112001</td>\n",
       "      <td>61.886998</td>\n",
       "      <td>49851.0</td>\n",
       "      <td>Afghanistan</td>\n",
       "      <td>AF</td>\n",
       "      <td>AFG</td>\n",
       "      <td>Nimroz</td>\n",
       "    </tr>\n",
       "    <tr>\n",
       "      <th>4</th>\n",
       "      <td>Tarin Kowt</td>\n",
       "      <td>Tarin Kowt</td>\n",
       "      <td>32.633298</td>\n",
       "      <td>65.866699</td>\n",
       "      <td>10000.0</td>\n",
       "      <td>Afghanistan</td>\n",
       "      <td>AF</td>\n",
       "      <td>AFG</td>\n",
       "      <td>Uruzgan</td>\n",
       "    </tr>\n",
       "  </tbody>\n",
       "</table>\n",
       "</div>"
      ],
      "text/plain": [
       "            city   city_ascii        lat        lng       pop      country  \\\n",
       "0  Qal eh-ye Now    Qal eh-ye  34.983000  63.133300    2997.0  Afghanistan   \n",
       "1    Chaghcharan  Chaghcharan  34.516701  65.250001   15000.0  Afghanistan   \n",
       "2    Lashkar Gah  Lashkar Gah  31.582998  64.360000  201546.0  Afghanistan   \n",
       "3         Zaranj       Zaranj  31.112001  61.886998   49851.0  Afghanistan   \n",
       "4     Tarin Kowt   Tarin Kowt  32.633298  65.866699   10000.0  Afghanistan   \n",
       "\n",
       "  iso2 iso3 province  \n",
       "0   AF  AFG  Badghis  \n",
       "1   AF  AFG     Ghor  \n",
       "2   AF  AFG  Hilmand  \n",
       "3   AF  AFG   Nimroz  \n",
       "4   AF  AFG  Uruzgan  "
      ]
     },
     "execution_count": 83,
     "metadata": {},
     "output_type": "execute_result"
    }
   ],
   "source": [
    "geo = pandas.read_csv('http://bit.ly/world_cities')\n",
    "geo.head()"
   ]
  },
  {
   "cell_type": "code",
   "execution_count": 84,
   "metadata": {
    "collapsed": false
   },
   "outputs": [
    {
     "data": {
      "text/html": [
       "<div>\n",
       "<table border=\"1\" class=\"dataframe\">\n",
       "  <thead>\n",
       "    <tr style=\"text-align: right;\">\n",
       "      <th></th>\n",
       "      <th>city</th>\n",
       "      <th>lat</th>\n",
       "      <th>pop</th>\n",
       "      <th>country</th>\n",
       "    </tr>\n",
       "  </thead>\n",
       "  <tbody>\n",
       "    <tr>\n",
       "      <th>0</th>\n",
       "      <td>Qal eh-ye Now</td>\n",
       "      <td>34.983000</td>\n",
       "      <td>2997.0</td>\n",
       "      <td>Afghanistan</td>\n",
       "    </tr>\n",
       "    <tr>\n",
       "      <th>1</th>\n",
       "      <td>Chaghcharan</td>\n",
       "      <td>34.516701</td>\n",
       "      <td>15000.0</td>\n",
       "      <td>Afghanistan</td>\n",
       "    </tr>\n",
       "    <tr>\n",
       "      <th>2</th>\n",
       "      <td>Lashkar Gah</td>\n",
       "      <td>31.582998</td>\n",
       "      <td>201546.0</td>\n",
       "      <td>Afghanistan</td>\n",
       "    </tr>\n",
       "  </tbody>\n",
       "</table>\n",
       "</div>"
      ],
      "text/plain": [
       "            city        lat       pop      country\n",
       "0  Qal eh-ye Now  34.983000    2997.0  Afghanistan\n",
       "1    Chaghcharan  34.516701   15000.0  Afghanistan\n",
       "2    Lashkar Gah  31.582998  201546.0  Afghanistan"
      ]
     },
     "execution_count": 84,
     "metadata": {},
     "output_type": "execute_result"
    }
   ],
   "source": [
    "# remove some columns\n",
    "geo.drop(['city_ascii', 'lng', 'iso2', 'iso3', 'province'], axis=1, inplace=True)\n",
    "geo.head(3)"
   ]
  },
  {
   "cell_type": "code",
   "execution_count": 87,
   "metadata": {
    "collapsed": false
   },
   "outputs": [
    {
     "data": {
      "text/plain": [
       "7322"
      ]
     },
     "execution_count": 87,
     "metadata": {},
     "output_type": "execute_result"
    }
   ],
   "source": [
    "# get the number of rows\n",
    "geo.shape[0]"
   ]
  },
  {
   "cell_type": "code",
   "execution_count": 88,
   "metadata": {
    "collapsed": false
   },
   "outputs": [
    {
     "data": {
      "text/plain": [
       "city       Qal eh-ye Now\n",
       "lat               34.983\n",
       "pop                 2997\n",
       "country      Afghanistan\n",
       "Name: 0, dtype: object"
      ]
     },
     "execution_count": 88,
     "metadata": {},
     "output_type": "execute_result"
    }
   ],
   "source": [
    "# show the first row\n",
    "geo.loc[0, :]"
   ]
  },
  {
   "cell_type": "code",
   "execution_count": 91,
   "metadata": {
    "collapsed": false
   },
   "outputs": [
    {
     "data": {
      "text/plain": [
       "'Qal eh-ye Now'"
      ]
     },
     "execution_count": 91,
     "metadata": {},
     "output_type": "execute_result"
    }
   ],
   "source": [
    "# display the city of the first row\n",
    "geo.loc[0, 'city']"
   ]
  },
  {
   "cell_type": "code",
   "execution_count": 92,
   "metadata": {
    "collapsed": false
   },
   "outputs": [],
   "source": [
    "# list the cities in New Zealand with more than 100000 inhabitants\n",
    "mask = geo.loc[:, 'country'] == 'New Zealand'\n",
    "df = geo.loc[mask, ['city', 'pop', 'lat', 'country']]"
   ]
  },
  {
   "cell_type": "code",
   "execution_count": 93,
   "metadata": {
    "collapsed": false
   },
   "outputs": [
    {
     "data": {
      "text/html": [
       "<div>\n",
       "<table border=\"1\" class=\"dataframe\">\n",
       "  <thead>\n",
       "    <tr style=\"text-align: right;\">\n",
       "      <th></th>\n",
       "      <th>city</th>\n",
       "      <th>pop</th>\n",
       "      <th>lat</th>\n",
       "      <th>country</th>\n",
       "    </tr>\n",
       "  </thead>\n",
       "  <tbody>\n",
       "    <tr>\n",
       "      <th>4294</th>\n",
       "      <td>Auckland</td>\n",
       "      <td>759510.0</td>\n",
       "      <td>-36.850013</td>\n",
       "      <td>New Zealand</td>\n",
       "    </tr>\n",
       "    <tr>\n",
       "      <th>4288</th>\n",
       "      <td>Manukau</td>\n",
       "      <td>336141.5</td>\n",
       "      <td>-36.999978</td>\n",
       "      <td>New Zealand</td>\n",
       "    </tr>\n",
       "    <tr>\n",
       "      <th>4292</th>\n",
       "      <td>Wellington</td>\n",
       "      <td>296300.0</td>\n",
       "      <td>-41.299974</td>\n",
       "      <td>New Zealand</td>\n",
       "    </tr>\n",
       "    <tr>\n",
       "      <th>4293</th>\n",
       "      <td>Christchurch</td>\n",
       "      <td>295351.5</td>\n",
       "      <td>-43.535031</td>\n",
       "      <td>New Zealand</td>\n",
       "    </tr>\n",
       "    <tr>\n",
       "      <th>4267</th>\n",
       "      <td>Takapuna</td>\n",
       "      <td>184815.5</td>\n",
       "      <td>-36.791257</td>\n",
       "      <td>New Zealand</td>\n",
       "    </tr>\n",
       "  </tbody>\n",
       "</table>\n",
       "</div>"
      ],
      "text/plain": [
       "              city       pop        lat      country\n",
       "4294      Auckland  759510.0 -36.850013  New Zealand\n",
       "4288       Manukau  336141.5 -36.999978  New Zealand\n",
       "4292    Wellington  296300.0 -41.299974  New Zealand\n",
       "4293  Christchurch  295351.5 -43.535031  New Zealand\n",
       "4267      Takapuna  184815.5 -36.791257  New Zealand"
      ]
     },
     "execution_count": 93,
     "metadata": {},
     "output_type": "execute_result"
    }
   ],
   "source": [
    "# sort the NZ cities by population\n",
    "df.sort_values('pop', ascending=False).head()"
   ]
  },
  {
   "cell_type": "code",
   "execution_count": 94,
   "metadata": {
    "collapsed": false
   },
   "outputs": [
    {
     "data": {
      "text/html": [
       "<div>\n",
       "<table border=\"1\" class=\"dataframe\">\n",
       "  <thead>\n",
       "    <tr style=\"text-align: right;\">\n",
       "      <th></th>\n",
       "      <th>city</th>\n",
       "      <th>country</th>\n",
       "      <th>lat</th>\n",
       "    </tr>\n",
       "  </thead>\n",
       "  <tbody>\n",
       "    <tr>\n",
       "      <th>1322</th>\n",
       "      <td>London</td>\n",
       "      <td>Canada</td>\n",
       "      <td>42.969999</td>\n",
       "    </tr>\n",
       "    <tr>\n",
       "      <th>6302</th>\n",
       "      <td>London</td>\n",
       "      <td>United Kingdom</td>\n",
       "      <td>51.499995</td>\n",
       "    </tr>\n",
       "    <tr>\n",
       "      <th>6442</th>\n",
       "      <td>London</td>\n",
       "      <td>United States of America</td>\n",
       "      <td>37.128882</td>\n",
       "    </tr>\n",
       "  </tbody>\n",
       "</table>\n",
       "</div>"
      ],
      "text/plain": [
       "        city                   country        lat\n",
       "1322  London                    Canada  42.969999\n",
       "6302  London            United Kingdom  51.499995\n",
       "6442  London  United States of America  37.128882"
      ]
     },
     "execution_count": 94,
     "metadata": {},
     "output_type": "execute_result"
    }
   ],
   "source": [
    "# get all the cities named \"London\"\n",
    "geo.loc[geo.loc[:, 'city'] == \"London\", ['city', 'country', 'lat']]"
   ]
  },
  {
   "cell_type": "code",
   "execution_count": 95,
   "metadata": {
    "collapsed": false
   },
   "outputs": [
    {
     "data": {
      "text/html": [
       "<div>\n",
       "<table border=\"1\" class=\"dataframe\">\n",
       "  <thead>\n",
       "    <tr style=\"text-align: right;\">\n",
       "      <th></th>\n",
       "      <th>city</th>\n",
       "      <th>country</th>\n",
       "      <th>lat</th>\n",
       "    </tr>\n",
       "  </thead>\n",
       "  <tbody>\n",
       "    <tr>\n",
       "      <th>574</th>\n",
       "      <td>Portland</td>\n",
       "      <td>Australia</td>\n",
       "      <td>-38.340000</td>\n",
       "    </tr>\n",
       "    <tr>\n",
       "      <th>6946</th>\n",
       "      <td>Portland</td>\n",
       "      <td>United States of America</td>\n",
       "      <td>43.672162</td>\n",
       "    </tr>\n",
       "    <tr>\n",
       "      <th>7022</th>\n",
       "      <td>Portland</td>\n",
       "      <td>United States of America</td>\n",
       "      <td>45.520024</td>\n",
       "    </tr>\n",
       "  </tbody>\n",
       "</table>\n",
       "</div>"
      ],
      "text/plain": [
       "          city                   country        lat\n",
       "574   Portland                 Australia -38.340000\n",
       "6946  Portland  United States of America  43.672162\n",
       "7022  Portland  United States of America  45.520024"
      ]
     },
     "execution_count": 95,
     "metadata": {},
     "output_type": "execute_result"
    }
   ],
   "source": [
    "# get all the cities named \"Portland\" \n",
    "geo.loc[geo.loc[:, 'city'] == \"Portland\", ['city', 'country', 'lat']]"
   ]
  },
  {
   "cell_type": "code",
   "execution_count": 96,
   "metadata": {
    "collapsed": false
   },
   "outputs": [
    {
     "data": {
      "text/plain": [
       "(7318, 4)"
      ]
     },
     "execution_count": 96,
     "metadata": {},
     "output_type": "execute_result"
    }
   ],
   "source": [
    "# remove some rows in the datasets\n",
    "geo.drop([1322, 6442, 574, 7022], axis=0, inplace=True)\n",
    "geo.shape"
   ]
  },
  {
   "cell_type": "code",
   "execution_count": 97,
   "metadata": {
    "collapsed": false
   },
   "outputs": [
    {
     "data": {
      "text/html": [
       "<div>\n",
       "<table border=\"1\" class=\"dataframe\">\n",
       "  <thead>\n",
       "    <tr style=\"text-align: right;\">\n",
       "      <th></th>\n",
       "      <th>city</th>\n",
       "      <th>country</th>\n",
       "      <th>lat</th>\n",
       "    </tr>\n",
       "  </thead>\n",
       "  <tbody>\n",
       "    <tr>\n",
       "      <th>6302</th>\n",
       "      <td>London</td>\n",
       "      <td>United Kingdom</td>\n",
       "      <td>51.499995</td>\n",
       "    </tr>\n",
       "    <tr>\n",
       "      <th>6946</th>\n",
       "      <td>Portland</td>\n",
       "      <td>United States of America</td>\n",
       "      <td>43.672162</td>\n",
       "    </tr>\n",
       "  </tbody>\n",
       "</table>\n",
       "</div>"
      ],
      "text/plain": [
       "          city                   country        lat\n",
       "6302    London            United Kingdom  51.499995\n",
       "6946  Portland  United States of America  43.672162"
      ]
     },
     "execution_count": 97,
     "metadata": {},
     "output_type": "execute_result"
    }
   ],
   "source": [
    "# check that London and Portland appear only once\n",
    "city = geo.loc[:, 'city']\n",
    "geo.loc[(city == \"London\") | (city == \"Portland\") , \n",
    "        ['city', 'country', 'lat']]"
   ]
  },
  {
   "cell_type": "code",
   "execution_count": 123,
   "metadata": {
    "collapsed": false,
    "scrolled": true
   },
   "outputs": [],
   "source": [
    "# combine the two tables\n",
    "# beware that some cities appear multiple times across countries\n",
    "gdp_per_capita = []\n",
    "lats = []\n",
    "city_names = []\n",
    "countries = []\n",
    "\n",
    "# iterate over the rows of gdp\n",
    "for row in gdp.iterrows():\n",
    "    index = row[0]\n",
    "    data = row[1]\n",
    "    rank, city, country, gdpVal = data\n",
    "    df = geo.loc[geo.loc[:, 'city'] == city, ['pop', 'lat', 'country']]\n",
    "    numRows = df.shape[0]\n",
    "    if numRows == 1:\n",
    "        # take the first row, returns a dict\n",
    "        pop = df.iloc[0]['pop']\n",
    "        lat = df.iloc[0]['lat']\n",
    "        lats.append(lat)\n",
    "        gdp_per_capita.append(1e9 * gdpVal/pop)\n",
    "        city_names.append(city)\n",
    "        countries.append(country)\n",
    "    elif numRows > 1:\n",
    "        # need to choose the city that is located in 'Country'\n",
    "        # TO FIX\n",
    "        pass\n"
   ]
  },
  {
   "cell_type": "code",
   "execution_count": 124,
   "metadata": {
    "collapsed": false
   },
   "outputs": [
    {
     "data": {
      "text/html": [
       "<div>\n",
       "<table border=\"1\" class=\"dataframe\">\n",
       "  <thead>\n",
       "    <tr style=\"text-align: right;\">\n",
       "      <th></th>\n",
       "      <th>GDP per capita US$ 2005</th>\n",
       "      <th>city</th>\n",
       "      <th>country</th>\n",
       "      <th>lat</th>\n",
       "    </tr>\n",
       "  </thead>\n",
       "  <tbody>\n",
       "    <tr>\n",
       "      <th>0</th>\n",
       "      <td>54120.866618</td>\n",
       "      <td>Tokyo</td>\n",
       "      <td>Japan</td>\n",
       "      <td>35.685017</td>\n",
       "    </tr>\n",
       "    <tr>\n",
       "      <th>1</th>\n",
       "      <td>83776.128003</td>\n",
       "      <td>New York</td>\n",
       "      <td>USA</td>\n",
       "      <td>40.749979</td>\n",
       "    </tr>\n",
       "    <tr>\n",
       "      <th>2</th>\n",
       "      <td>77755.555465</td>\n",
       "      <td>Chicago</td>\n",
       "      <td>USA</td>\n",
       "      <td>41.829991</td>\n",
       "    </tr>\n",
       "    <tr>\n",
       "      <th>3</th>\n",
       "      <td>92787.047574</td>\n",
       "      <td>Paris</td>\n",
       "      <td>France</td>\n",
       "      <td>48.866693</td>\n",
       "    </tr>\n",
       "    <tr>\n",
       "      <th>4</th>\n",
       "      <td>56541.667675</td>\n",
       "      <td>London</td>\n",
       "      <td>UK</td>\n",
       "      <td>51.499995</td>\n",
       "    </tr>\n",
       "  </tbody>\n",
       "</table>\n",
       "</div>"
      ],
      "text/plain": [
       "   GDP per capita US$ 2005      city country        lat\n",
       "0             54120.866618     Tokyo   Japan  35.685017\n",
       "1             83776.128003  New York     USA  40.749979\n",
       "2             77755.555465   Chicago     USA  41.829991\n",
       "3             92787.047574     Paris  France  48.866693\n",
       "4             56541.667675    London      UK  51.499995"
      ]
     },
     "execution_count": 124,
     "metadata": {},
     "output_type": "execute_result"
    }
   ],
   "source": [
    "# create a new data frame with data combined from two tables\n",
    "gdpPerCapita = pandas.DataFrame({\n",
    "        'city': city_names,\n",
    "        'GDP per capita US$ 2005': gdp_per_capita,\n",
    "        'lat': lats,\n",
    "        'country': countries,\n",
    "    })\n",
    "gdpPerCapita.head()"
   ]
  },
  {
   "cell_type": "code",
   "execution_count": 129,
   "metadata": {
    "collapsed": false
   },
   "outputs": [
    {
     "data": {
      "image/png": "[encoded data removed]",
      "text/plain": [
       "<matplotlib.figure.Figure at 0x7f83361b7f10>"
      ]
     },
     "metadata": {},
     "output_type": "display_data"
    }
   ],
   "source": [
    "# create scatter plot \n",
    "% matplotlib inline\n",
    "from matplotlib import pylab\n",
    "# nicer plot size\n",
    "pylab.rcParams['figure.figsize'] = (15, 6)\n",
    "\n",
    "# scatter plot \n",
    "pylab.scatter(lats, gdp_per_capita, c='g')\n",
    "\n",
    "x = gdpPerCapita.loc[gdpPerCapita['country'] == 'New Zealand', 'lat']\n",
    "y = gdpPerCapita.loc[gdpPerCapita['country'] == 'New Zealand', 'GDP per capita US$ 2005']\n",
    "pylab.scatter(x, y, s=100, c='r')\n",
    "labels = gdpPerCapita.loc[gdpPerCapita['country'] == 'New Zealand', 'city']\n",
    "for i in range(len(x)):\n",
    "    pylab.annotate(labels.iloc[i], (x.iloc[i], y.iloc[i]))\n",
    "\n"
   ]
  },
  {
   "cell_type": "code",
   "execution_count": null,
   "metadata": {
    "collapsed": true
   },
   "outputs": [],
   "source": []
  }
 ],
 "metadata": {
  "anaconda-cloud": {},
  "kernelspec": {
   "display_name": "Python 3",
   "language": "python",
   "name": "python3"
  },
  "language_info": {
   "codemirror_mode": {
    "name": "ipython",
    "version": 3
   },
   "file_extension": ".py",
   "mimetype": "text/x-python",
   "name": "python",
   "nbconvert_exporter": "python",
   "pygments_lexer": "ipython3",
   "version": "3.5.1"
  }
 },
 "nbformat": 4,
 "nbformat_minor": 0
}
