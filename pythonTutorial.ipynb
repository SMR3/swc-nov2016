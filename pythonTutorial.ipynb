{
 "cells": [
  {
   "cell_type": "markdown",
   "metadata": {},
   "source": [
    "# Programming in Python\n"
   ]
  },
  {
   "cell_type": "markdown",
   "metadata": {},
   "source": [
    "## 1. Getting to know Python"
   ]
  },
  {
   "cell_type": "markdown",
   "metadata": {},
   "source": [
    "### Different ways to interact with Python\n",
    " 1. Using the interpreter (for instance `ipython`)\n",
    " 2. Using the `jupyter notebook`\n",
    " 3. Writing and executing programs (`python myProgram.py`)"
   ]
  },
  {
   "cell_type": "markdown",
   "metadata": {},
   "source": [
    "### Python language elements"
   ]
  },
  {
   "cell_type": "markdown",
   "metadata": {},
   "source": [
    " #### Python as a calculator \n",
    "   * operations \n",
    "   * math functions"
   ]
  },
  {
   "cell_type": "code",
   "execution_count": 51,
   "metadata": {
    "collapsed": false
   },
   "outputs": [
    {
     "name": "stdout",
     "output_type": "stream",
     "text": [
      "(0.3623577544766736+0.9320390859672263j)\n"
     ]
    }
   ],
   "source": [
    "import cmath\n",
    "import math\n",
    "x = 1.2\n",
    "y = cmath.exp(1j* x)\n",
    "z = math.exp(x)\n",
    "print(y)"
   ]
  },
  {
   "cell_type": "markdown",
   "metadata": {},
   "source": [
    "#### numbers and other data types\n",
    " * integers\n",
    " * floats\n",
    " * Booleans"
   ]
  },
  {
   "cell_type": "code",
   "execution_count": 52,
   "metadata": {
    "collapsed": false
   },
   "outputs": [
    {
     "data": {
      "text/plain": [
       "bool"
      ]
     },
     "execution_count": 52,
     "metadata": {},
     "output_type": "execute_result"
    }
   ],
   "source": [
    "x = 1.2\n",
    "type(x > 1)"
   ]
  },
  {
   "cell_type": "markdown",
   "metadata": {},
   "source": [
    "#### working with strings \n",
    " * single line\n",
    " * extending obver several lines\n",
    " * converting numbers to string"
   ]
  },
  {
   "cell_type": "code",
   "execution_count": 53,
   "metadata": {
    "collapsed": false
   },
   "outputs": [
    {
     "name": "stdout",
     "output_type": "stream",
     "text": [
      "many lines\n"
     ]
    }
   ],
   "source": [
    "s = '''writing over many lines'''\n",
    "print(s[-10:])"
   ]
  },
  {
   "cell_type": "markdown",
   "metadata": {},
   "source": [
    "#### packing things together -- lists and tuples\n",
    " * length\n",
    " * indexing \n",
    " * slicing"
   ]
  },
  {
   "cell_type": "code",
   "execution_count": 54,
   "metadata": {
    "collapsed": false
   },
   "outputs": [
    {
     "name": "stdout",
     "output_type": "stream",
     "text": [
      "[1, [1, 1], [1, 2, 1], [1, 3, 6, 3, 1]]\n"
     ]
    }
   ],
   "source": [
    "lst = [1,[1,1], [1,2, 1], [1, 3, 6, 3, 1]]\n",
    "print(lst)"
   ]
  },
  {
   "cell_type": "code",
   "execution_count": 55,
   "metadata": {
    "collapsed": false
   },
   "outputs": [
    {
     "data": {
      "text/plain": [
       "2"
      ]
     },
     "execution_count": 55,
     "metadata": {},
     "output_type": "execute_result"
    }
   ],
   "source": [
    "lst[2][1]"
   ]
  },
  {
   "cell_type": "markdown",
   "metadata": {},
   "source": [
    "#### accessing values by keys -- dictionaries\n",
    " * example"
   ]
  },
  {
   "cell_type": "code",
   "execution_count": 56,
   "metadata": {
    "collapsed": false
   },
   "outputs": [
    {
     "data": {
      "text/plain": [
       "1976"
      ]
     },
     "execution_count": 56,
     "metadata": {},
     "output_type": "execute_result"
    }
   ],
   "source": [
    "d = {'Jonny': 1987, 'Anne': 1976}\n",
    "d['Anne'] # expect to get 1976 back"
   ]
  },
  {
   "cell_type": "markdown",
   "metadata": {},
   "source": [
    " #### storing data in **variables**\n",
    "  * setting and retrieving "
   ]
  },
  {
   "cell_type": "markdown",
   "metadata": {},
   "source": [
    " #### printing\n",
    "  * default print\n",
    "  * formatted print"
   ]
  },
  {
   "cell_type": "markdown",
   "metadata": {},
   "source": [
    " #### **Identation** is part of the language!\n",
    "   * loops\n",
    "   * conditionals\n",
    "   * scoping"
   ]
  },
  {
   "cell_type": "code",
   "execution_count": 57,
   "metadata": {
    "collapsed": false
   },
   "outputs": [
    {
     "data": {
      "text/plain": [
       "8"
      ]
     },
     "execution_count": 57,
     "metadata": {},
     "output_type": "execute_result"
    }
   ],
   "source": [
    "def foo(x, y=10):\n",
    "    # do stuff\n",
    "    return x*y\n",
    "\n",
    "foo(2, 4)"
   ]
  },
  {
   "cell_type": "markdown",
   "metadata": {},
   "source": [
    "#### functions"
   ]
  },
  {
   "cell_type": "markdown",
   "metadata": {},
   "source": [
    "#### comments"
   ]
  },
  {
   "cell_type": "markdown",
   "metadata": {},
   "source": [
    "### Common pitfalls\n",
    " * watch out for indentation\n",
    " * comparing floats may yield unintented consequences\n",
    " * integer division (//) vs division (/)\n",
    " * in place vs function that return new objects"
   ]
  },
  {
   "cell_type": "markdown",
   "metadata": {},
   "source": [
    "## 2. Python with batteries charged"
   ]
  },
  {
   "cell_type": "markdown",
   "metadata": {},
   "source": [
    "### Numpy for fast array operations (Matlab and IDL users pay attention)"
   ]
  },
  {
   "cell_type": "markdown",
   "metadata": {},
   "source": [
    "$$\\frac{\\partial f}{\\partial t} + u \\frac{\\partial f}{\\partial x} = 0$$\n",
    "$$f_i^{t + \\Delta t} = (1 - C) f_i^t + C f_{i-1}^t$$ with $$C \\equiv \\frac{u \\Delta t}{\\Delta x}$$\n",
    "\n",
    "Up-wind implementation:\n",
    "\n",
    "`newf[i] = (1 - c)*f[i] + c*f[i - 1]` for $i \\in 1...n-1$\n",
    "\n",
    "`newf[0] = (1 - c)*f[0] + c*f[-1]` (assuming periodic boundary conditions)"
   ]
  },
  {
   "cell_type": "code",
   "execution_count": 58,
   "metadata": {
    "collapsed": false
   },
   "outputs": [],
   "source": [
    "import numpy\n",
    "\n",
    "# code to advance function f starting from initial \n",
    "# condition f0\n",
    "#\n",
    "def advance(f0, c, nt=10):\n",
    "    \"\"\"\n",
    "    Advance the function \n",
    "    f0  initial condition\n",
    "    c   Courant coefficient\n",
    "    nt  number of time steps\n",
    "    \"\"\"\n",
    "    f = f0.copy()\n",
    "    for i in range(nt):\n",
    "        newf = (1 - c) * f\n",
    "        newf[1:] += c * f[:-1]\n",
    "        # updating the first cell taking the last cell previous value\n",
    "        # (periodic boundary conditions)\n",
    "        newf[0] + c * f[-1]\n",
    "        # copy\n",
    "        f[:] = newf\n",
    "    return f\n",
    "\n",
    "\n",
    "n = 1000\n",
    "f0 = numpy.zeros([n], numpy.float64) # initial condition\n",
    "f0[0:n//4] = 1.\n",
    "f = advance(f0, 0.99, nt=500)\n",
    "\n"
   ]
  },
  {
   "cell_type": "markdown",
   "metadata": {},
   "source": [
    "## Plotting"
   ]
  },
  {
   "cell_type": "code",
   "execution_count": 59,
   "metadata": {
    "collapsed": false
   },
   "outputs": [
    {
     "data": {
      "text/plain": [
       "(0, 1.2)"
      ]
     },
     "execution_count": 59,
     "metadata": {},
     "output_type": "execute_result"
    },
    {
     "data": {
      "image/png": "[encoded data removed]",
      "text/plain": [
       "<matplotlib.figure.Figure at 0xa2a5978>"
      ]
     },
     "metadata": {},
     "output_type": "display_data"
    }
   ],
   "source": [
    "# magic to get plots inside jupyter documents\n",
    "% matplotlib inline\n",
    "\n",
    "from matplotlib import pylab\n",
    "x = numpy.linspace(0., 1., n)\n",
    "pylab.plot(x, f0, 'g-')\n",
    "pylab.plot(x, f, 'r-')\n",
    "pylab.ylim([0, 1.2])"
   ]
  },
  {
   "cell_type": "markdown",
   "metadata": {},
   "source": [
    "### Pandas for data analysis (R users pay attention)"
   ]
  },
  {
   "cell_type": "markdown",
   "metadata": {},
   "source": [
    "What the relation between prosperity and latitude?\n",
    " * Look at GDP data for a number of cities around the world\n",
    " * Get the population and the latitude data for these cities\n",
    " * Compute the GDP per capita for each city\n",
    " * plot GDP per capita data against the latitude of each city"
   ]
  },
  {
   "cell_type": "code",
   "execution_count": 60,
   "metadata": {
    "collapsed": false
   },
   "outputs": [],
   "source": [
    "import pandas \n",
    "gdp = pandas.read_csv('http://bit.ly/citiesGDP')"
   ]
  },
  {
   "cell_type": "code",
   "execution_count": 61,
   "metadata": {
    "collapsed": false
   },
   "outputs": [
    {
     "name": "stdout",
     "output_type": "stream",
     "text": [
      "Index(['Rank', 'City/Urban area', 'Country', 'GDP in US$bn 2005'], dtype='object')\n"
     ]
    },
    {
     "data": {
      "text/html": [
       "<div>\n",
       "<table border=\"1\" class=\"dataframe\">\n",
       "  <thead>\n",
       "    <tr style=\"text-align: right;\">\n",
       "      <th></th>\n",
       "      <th>Rank</th>\n",
       "      <th>City/Urban area</th>\n",
       "      <th>Country</th>\n",
       "      <th>GDP in US$bn 2005</th>\n",
       "    </tr>\n",
       "  </thead>\n",
       "  <tbody>\n",
       "    <tr>\n",
       "      <th>0</th>\n",
       "      <td>1</td>\n",
       "      <td>Tokyo</td>\n",
       "      <td>Japan</td>\n",
       "      <td>1191</td>\n",
       "    </tr>\n",
       "    <tr>\n",
       "      <th>1</th>\n",
       "      <td>2</td>\n",
       "      <td>New York</td>\n",
       "      <td>USA</td>\n",
       "      <td>1133</td>\n",
       "    </tr>\n",
       "    <tr>\n",
       "      <th>2</th>\n",
       "      <td>3</td>\n",
       "      <td>Los Angeles</td>\n",
       "      <td>USA</td>\n",
       "      <td>639</td>\n",
       "    </tr>\n",
       "    <tr>\n",
       "      <th>3</th>\n",
       "      <td>4</td>\n",
       "      <td>Chicago</td>\n",
       "      <td>USA</td>\n",
       "      <td>460</td>\n",
       "    </tr>\n",
       "    <tr>\n",
       "      <th>4</th>\n",
       "      <td>5</td>\n",
       "      <td>Paris</td>\n",
       "      <td>France</td>\n",
       "      <td>460</td>\n",
       "    </tr>\n",
       "    <tr>\n",
       "      <th>5</th>\n",
       "      <td>6</td>\n",
       "      <td>London</td>\n",
       "      <td>UK</td>\n",
       "      <td>452</td>\n",
       "    </tr>\n",
       "    <tr>\n",
       "      <th>6</th>\n",
       "      <td>7</td>\n",
       "      <td>Osaka/Kobe</td>\n",
       "      <td>Japan</td>\n",
       "      <td>341</td>\n",
       "    </tr>\n",
       "    <tr>\n",
       "      <th>7</th>\n",
       "      <td>8</td>\n",
       "      <td>Mexico City</td>\n",
       "      <td>Mexico</td>\n",
       "      <td>315</td>\n",
       "    </tr>\n",
       "    <tr>\n",
       "      <th>8</th>\n",
       "      <td>9</td>\n",
       "      <td>Philadelphia</td>\n",
       "      <td>USA</td>\n",
       "      <td>312</td>\n",
       "    </tr>\n",
       "    <tr>\n",
       "      <th>9</th>\n",
       "      <td>10</td>\n",
       "      <td>Washington DC</td>\n",
       "      <td>USA</td>\n",
       "      <td>299</td>\n",
       "    </tr>\n",
       "  </tbody>\n",
       "</table>\n",
       "</div>"
      ],
      "text/plain": [
       "   Rank City/Urban area Country  GDP in US$bn 2005\n",
       "0     1           Tokyo   Japan               1191\n",
       "1     2        New York     USA               1133\n",
       "2     3     Los Angeles     USA                639\n",
       "3     4         Chicago     USA                460\n",
       "4     5           Paris  France                460\n",
       "5     6          London      UK                452\n",
       "6     7      Osaka/Kobe   Japan                341\n",
       "7     8     Mexico City  Mexico                315\n",
       "8     9    Philadelphia     USA                312\n",
       "9    10   Washington DC     USA                299"
      ]
     },
     "execution_count": 61,
     "metadata": {},
     "output_type": "execute_result"
    }
   ],
   "source": [
    "# show the first few rows\n",
    "print(gdp.columns)\n",
    "gdp.head(10)\n"
   ]
  },
  {
   "cell_type": "code",
   "execution_count": 62,
   "metadata": {
    "collapsed": false
   },
   "outputs": [],
   "source": [
    "# renaming columns"
   ]
  },
  {
   "cell_type": "code",
   "execution_count": 63,
   "metadata": {
    "collapsed": false
   },
   "outputs": [
    {
     "data": {
      "text/html": [
       "<div>\n",
       "<table border=\"1\" class=\"dataframe\">\n",
       "  <thead>\n",
       "    <tr style=\"text-align: right;\">\n",
       "      <th></th>\n",
       "      <th>City/Urban area</th>\n",
       "      <th>Country</th>\n",
       "    </tr>\n",
       "  </thead>\n",
       "  <tbody>\n",
       "    <tr>\n",
       "      <th>0</th>\n",
       "      <td>Tokyo</td>\n",
       "      <td>Japan</td>\n",
       "    </tr>\n",
       "    <tr>\n",
       "      <th>1</th>\n",
       "      <td>New York</td>\n",
       "      <td>USA</td>\n",
       "    </tr>\n",
       "    <tr>\n",
       "      <th>2</th>\n",
       "      <td>Los Angeles</td>\n",
       "      <td>USA</td>\n",
       "    </tr>\n",
       "  </tbody>\n",
       "</table>\n",
       "</div>"
      ],
      "text/plain": [
       "  City/Urban area Country\n",
       "0           Tokyo   Japan\n",
       "1        New York     USA\n",
       "2     Los Angeles     USA"
      ]
     },
     "execution_count": 63,
     "metadata": {},
     "output_type": "execute_result"
    }
   ],
   "source": [
    "# select the cities for which the GDP > $1000bn\n",
    "mask = gdp.loc[:, 'GDP in US$bn 2005'] > 500\n",
    "gdp.loc[mask, ['City/Urban area', \"Country\"]].head()"
   ]
  },
  {
   "cell_type": "code",
   "execution_count": 64,
   "metadata": {
    "collapsed": false
   },
   "outputs": [
    {
     "data": {
      "text/html": [
       "<div>\n",
       "<table border=\"1\" class=\"dataframe\">\n",
       "  <thead>\n",
       "    <tr style=\"text-align: right;\">\n",
       "      <th></th>\n",
       "      <th>city</th>\n",
       "      <th>city_ascii</th>\n",
       "      <th>lat</th>\n",
       "      <th>lng</th>\n",
       "      <th>pop</th>\n",
       "      <th>country</th>\n",
       "      <th>iso2</th>\n",
       "      <th>iso3</th>\n",
       "      <th>province</th>\n",
       "    </tr>\n",
       "  </thead>\n",
       "  <tbody>\n",
       "    <tr>\n",
       "      <th>0</th>\n",
       "      <td>Qal eh-ye Now</td>\n",
       "      <td>Qal eh-ye</td>\n",
       "      <td>34.983000</td>\n",
       "      <td>63.133300</td>\n",
       "      <td>2997.0</td>\n",
       "      <td>Afghanistan</td>\n",
       "      <td>AF</td>\n",
       "      <td>AFG</td>\n",
       "      <td>Badghis</td>\n",
       "    </tr>\n",
       "    <tr>\n",
       "      <th>1</th>\n",
       "      <td>Chaghcharan</td>\n",
       "      <td>Chaghcharan</td>\n",
       "      <td>34.516701</td>\n",
       "      <td>65.250001</td>\n",
       "      <td>15000.0</td>\n",
       "      <td>Afghanistan</td>\n",
       "      <td>AF</td>\n",
       "      <td>AFG</td>\n",
       "      <td>Ghor</td>\n",
       "    </tr>\n",
       "    <tr>\n",
       "      <th>2</th>\n",
       "      <td>Lashkar Gah</td>\n",
       "      <td>Lashkar Gah</td>\n",
       "      <td>31.582998</td>\n",
       "      <td>64.360000</td>\n",
       "      <td>201546.0</td>\n",
       "      <td>Afghanistan</td>\n",
       "      <td>AF</td>\n",
       "      <td>AFG</td>\n",
       "      <td>Hilmand</td>\n",
       "    </tr>\n",
       "    <tr>\n",
       "      <th>3</th>\n",
       "      <td>Zaranj</td>\n",
       "      <td>Zaranj</td>\n",
       "      <td>31.112001</td>\n",
       "      <td>61.886998</td>\n",
       "      <td>49851.0</td>\n",
       "      <td>Afghanistan</td>\n",
       "      <td>AF</td>\n",
       "      <td>AFG</td>\n",
       "      <td>Nimroz</td>\n",
       "    </tr>\n",
       "    <tr>\n",
       "      <th>4</th>\n",
       "      <td>Tarin Kowt</td>\n",
       "      <td>Tarin Kowt</td>\n",
       "      <td>32.633298</td>\n",
       "      <td>65.866699</td>\n",
       "      <td>10000.0</td>\n",
       "      <td>Afghanistan</td>\n",
       "      <td>AF</td>\n",
       "      <td>AFG</td>\n",
       "      <td>Uruzgan</td>\n",
       "    </tr>\n",
       "  </tbody>\n",
       "</table>\n",
       "</div>"
      ],
      "text/plain": [
       "            city   city_ascii        lat        lng       pop      country  \\\n",
       "0  Qal eh-ye Now    Qal eh-ye  34.983000  63.133300    2997.0  Afghanistan   \n",
       "1    Chaghcharan  Chaghcharan  34.516701  65.250001   15000.0  Afghanistan   \n",
       "2    Lashkar Gah  Lashkar Gah  31.582998  64.360000  201546.0  Afghanistan   \n",
       "3         Zaranj       Zaranj  31.112001  61.886998   49851.0  Afghanistan   \n",
       "4     Tarin Kowt   Tarin Kowt  32.633298  65.866699   10000.0  Afghanistan   \n",
       "\n",
       "  iso2 iso3 province  \n",
       "0   AF  AFG  Badghis  \n",
       "1   AF  AFG     Ghor  \n",
       "2   AF  AFG  Hilmand  \n",
       "3   AF  AFG   Nimroz  \n",
       "4   AF  AFG  Uruzgan  "
      ]
     },
     "execution_count": 64,
     "metadata": {},
     "output_type": "execute_result"
    }
   ],
   "source": [
    "geo = pandas.read_csv('http://bit.ly/world_cities')\n",
    "geo.head()"
   ]
  },
  {
   "cell_type": "code",
   "execution_count": 65,
   "metadata": {
    "collapsed": false
   },
   "outputs": [
    {
     "data": {
      "text/html": [
       "<div>\n",
       "<table border=\"1\" class=\"dataframe\">\n",
       "  <thead>\n",
       "    <tr style=\"text-align: right;\">\n",
       "      <th></th>\n",
       "      <th>city</th>\n",
       "      <th>lat</th>\n",
       "      <th>pop</th>\n",
       "      <th>country</th>\n",
       "    </tr>\n",
       "  </thead>\n",
       "  <tbody>\n",
       "    <tr>\n",
       "      <th>0</th>\n",
       "      <td>Qal eh-ye Now</td>\n",
       "      <td>34.983000</td>\n",
       "      <td>2997.0</td>\n",
       "      <td>Afghanistan</td>\n",
       "    </tr>\n",
       "    <tr>\n",
       "      <th>1</th>\n",
       "      <td>Chaghcharan</td>\n",
       "      <td>34.516701</td>\n",
       "      <td>15000.0</td>\n",
       "      <td>Afghanistan</td>\n",
       "    </tr>\n",
       "    <tr>\n",
       "      <th>2</th>\n",
       "      <td>Lashkar Gah</td>\n",
       "      <td>31.582998</td>\n",
       "      <td>201546.0</td>\n",
       "      <td>Afghanistan</td>\n",
       "    </tr>\n",
       "  </tbody>\n",
       "</table>\n",
       "</div>"
      ],
      "text/plain": [
       "            city        lat       pop      country\n",
       "0  Qal eh-ye Now  34.983000    2997.0  Afghanistan\n",
       "1    Chaghcharan  34.516701   15000.0  Afghanistan\n",
       "2    Lashkar Gah  31.582998  201546.0  Afghanistan"
      ]
     },
     "execution_count": 65,
     "metadata": {},
     "output_type": "execute_result"
    }
   ],
   "source": [
    "# remove some columns\n",
    "geo.drop(['city_ascii', 'lng', 'iso2', 'iso3', 'province'], axis=1, inplace=True)\n",
    "geo.head(3)"
   ]
  },
  {
   "cell_type": "code",
   "execution_count": 66,
   "metadata": {
    "collapsed": false
   },
   "outputs": [
    {
     "data": {
      "text/plain": [
       "7322"
      ]
     },
     "execution_count": 66,
     "metadata": {},
     "output_type": "execute_result"
    }
   ],
   "source": [
    "# get the number of rows\n",
    "geo.shape[0]"
   ]
  },
  {
   "cell_type": "code",
   "execution_count": 67,
   "metadata": {
    "collapsed": false
   },
   "outputs": [
    {
     "data": {
      "text/plain": [
       "city       Qal eh-ye Now\n",
       "lat               34.983\n",
       "pop                 2997\n",
       "country      Afghanistan\n",
       "Name: 0, dtype: object"
      ]
     },
     "execution_count": 67,
     "metadata": {},
     "output_type": "execute_result"
    }
   ],
   "source": [
    "# show the first row\n",
    "geo.loc[0, :]"
   ]
  },
  {
   "cell_type": "code",
   "execution_count": 68,
   "metadata": {
    "collapsed": false
   },
   "outputs": [
    {
     "data": {
      "text/plain": [
       "'Qal eh-ye Now'"
      ]
     },
     "execution_count": 68,
     "metadata": {},
     "output_type": "execute_result"
    }
   ],
   "source": [
    "# display the city of the first row\n",
    "geo.loc[0, 'city']"
   ]
  },
  {
   "cell_type": "code",
   "execution_count": 69,
   "metadata": {
    "collapsed": false
   },
   "outputs": [],
   "source": [
    "# list the cities in New Zealand with more than 100000 inhabitants\n",
    "mask = geo.loc[:, 'country'] == 'New Zealand'\n",
    "df = geo.loc[mask, ['city', 'pop', 'lat', 'country']]"
   ]
  },
  {
   "cell_type": "code",
   "execution_count": 70,
   "metadata": {
    "collapsed": false
   },
   "outputs": [
    {
     "data": {
      "text/html": [
       "<div>\n",
       "<table border=\"1\" class=\"dataframe\">\n",
       "  <thead>\n",
       "    <tr style=\"text-align: right;\">\n",
       "      <th></th>\n",
       "      <th>city</th>\n",
       "      <th>pop</th>\n",
       "      <th>lat</th>\n",
       "      <th>country</th>\n",
       "    </tr>\n",
       "  </thead>\n",
       "  <tbody>\n",
       "    <tr>\n",
       "      <th>4294</th>\n",
       "      <td>Auckland</td>\n",
       "      <td>759510.0</td>\n",
       "      <td>-36.850013</td>\n",
       "      <td>New Zealand</td>\n",
       "    </tr>\n",
       "    <tr>\n",
       "      <th>4288</th>\n",
       "      <td>Manukau</td>\n",
       "      <td>336141.5</td>\n",
       "      <td>-36.999978</td>\n",
       "      <td>New Zealand</td>\n",
       "    </tr>\n",
       "    <tr>\n",
       "      <th>4292</th>\n",
       "      <td>Wellington</td>\n",
       "      <td>296300.0</td>\n",
       "      <td>-41.299974</td>\n",
       "      <td>New Zealand</td>\n",
       "    </tr>\n",
       "    <tr>\n",
       "      <th>4293</th>\n",
       "      <td>Christchurch</td>\n",
       "      <td>295351.5</td>\n",
       "      <td>-43.535031</td>\n",
       "      <td>New Zealand</td>\n",
       "    </tr>\n",
       "    <tr>\n",
       "      <th>4267</th>\n",
       "      <td>Takapuna</td>\n",
       "      <td>184815.5</td>\n",
       "      <td>-36.791257</td>\n",
       "      <td>New Zealand</td>\n",
       "    </tr>\n",
       "  </tbody>\n",
       "</table>\n",
       "</div>"
      ],
      "text/plain": [
       "              city       pop        lat      country\n",
       "4294      Auckland  759510.0 -36.850013  New Zealand\n",
       "4288       Manukau  336141.5 -36.999978  New Zealand\n",
       "4292    Wellington  296300.0 -41.299974  New Zealand\n",
       "4293  Christchurch  295351.5 -43.535031  New Zealand\n",
       "4267      Takapuna  184815.5 -36.791257  New Zealand"
      ]
     },
     "execution_count": 70,
     "metadata": {},
     "output_type": "execute_result"
    }
   ],
   "source": [
    "# sort the NZ cities by population\n",
    "df.sort_values('pop', ascending=False).head()"
   ]
  },
  {
   "cell_type": "code",
   "execution_count": 71,
   "metadata": {
    "collapsed": false
   },
   "outputs": [
    {
     "data": {
      "text/html": [
       "<div>\n",
       "<table border=\"1\" class=\"dataframe\">\n",
       "  <thead>\n",
       "    <tr style=\"text-align: right;\">\n",
       "      <th></th>\n",
       "      <th>city</th>\n",
       "      <th>country</th>\n",
       "      <th>lat</th>\n",
       "    </tr>\n",
       "  </thead>\n",
       "  <tbody>\n",
       "    <tr>\n",
       "      <th>1322</th>\n",
       "      <td>London</td>\n",
       "      <td>Canada</td>\n",
       "      <td>42.969999</td>\n",
       "    </tr>\n",
       "    <tr>\n",
       "      <th>6302</th>\n",
       "      <td>London</td>\n",
       "      <td>United Kingdom</td>\n",
       "      <td>51.499995</td>\n",
       "    </tr>\n",
       "    <tr>\n",
       "      <th>6442</th>\n",
       "      <td>London</td>\n",
       "      <td>United States of America</td>\n",
       "      <td>37.128882</td>\n",
       "    </tr>\n",
       "  </tbody>\n",
       "</table>\n",
       "</div>"
      ],
      "text/plain": [
       "        city                   country        lat\n",
       "1322  London                    Canada  42.969999\n",
       "6302  London            United Kingdom  51.499995\n",
       "6442  London  United States of America  37.128882"
      ]
     },
     "execution_count": 71,
     "metadata": {},
     "output_type": "execute_result"
    }
   ],
   "source": [
    "# get all the cities named \"London\"\n",
    "geo.loc[geo.loc[:, 'city'] == \"London\", ['city', 'country', 'lat']]"
   ]
  },
  {
   "cell_type": "code",
   "execution_count": 72,
   "metadata": {
    "collapsed": false
   },
   "outputs": [
    {
     "data": {
      "text/html": [
       "<div>\n",
       "<table border=\"1\" class=\"dataframe\">\n",
       "  <thead>\n",
       "    <tr style=\"text-align: right;\">\n",
       "      <th></th>\n",
       "      <th>city</th>\n",
       "      <th>country</th>\n",
       "      <th>lat</th>\n",
       "    </tr>\n",
       "  </thead>\n",
       "  <tbody>\n",
       "    <tr>\n",
       "      <th>574</th>\n",
       "      <td>Portland</td>\n",
       "      <td>Australia</td>\n",
       "      <td>-38.340000</td>\n",
       "    </tr>\n",
       "    <tr>\n",
       "      <th>6946</th>\n",
       "      <td>Portland</td>\n",
       "      <td>United States of America</td>\n",
       "      <td>43.672162</td>\n",
       "    </tr>\n",
       "    <tr>\n",
       "      <th>7022</th>\n",
       "      <td>Portland</td>\n",
       "      <td>United States of America</td>\n",
       "      <td>45.520024</td>\n",
       "    </tr>\n",
       "  </tbody>\n",
       "</table>\n",
       "</div>"
      ],
      "text/plain": [
       "          city                   country        lat\n",
       "574   Portland                 Australia -38.340000\n",
       "6946  Portland  United States of America  43.672162\n",
       "7022  Portland  United States of America  45.520024"
      ]
     },
     "execution_count": 72,
     "metadata": {},
     "output_type": "execute_result"
    }
   ],
   "source": [
    "# get all the cities named \"Portland\" \n",
    "geo.loc[geo.loc[:, 'city'] == \"Portland\", ['city', 'country', 'lat']]"
   ]
  },
  {
   "cell_type": "code",
   "execution_count": 73,
   "metadata": {
    "collapsed": false
   },
   "outputs": [
    {
     "data": {
      "text/plain": [
       "(7318, 4)"
      ]
     },
     "execution_count": 73,
     "metadata": {},
     "output_type": "execute_result"
    }
   ],
   "source": [
    "# remove some rows in the datasets\n",
    "geo.drop([1322, 6442, 574, 6946], axis=0, inplace=True)\n",
    "geo.shape"
   ]
  },
  {
   "cell_type": "code",
   "execution_count": 74,
   "metadata": {
    "collapsed": false
   },
   "outputs": [
    {
     "data": {
      "text/html": [
       "<div>\n",
       "<table border=\"1\" class=\"dataframe\">\n",
       "  <thead>\n",
       "    <tr style=\"text-align: right;\">\n",
       "      <th></th>\n",
       "      <th>city</th>\n",
       "      <th>country</th>\n",
       "      <th>lat</th>\n",
       "    </tr>\n",
       "  </thead>\n",
       "  <tbody>\n",
       "    <tr>\n",
       "      <th>6302</th>\n",
       "      <td>London</td>\n",
       "      <td>United Kingdom</td>\n",
       "      <td>51.499995</td>\n",
       "    </tr>\n",
       "    <tr>\n",
       "      <th>7022</th>\n",
       "      <td>Portland</td>\n",
       "      <td>United States of America</td>\n",
       "      <td>45.520024</td>\n",
       "    </tr>\n",
       "  </tbody>\n",
       "</table>\n",
       "</div>"
      ],
      "text/plain": [
       "          city                   country        lat\n",
       "6302    London            United Kingdom  51.499995\n",
       "7022  Portland  United States of America  45.520024"
      ]
     },
     "execution_count": 74,
     "metadata": {},
     "output_type": "execute_result"
    }
   ],
   "source": [
    "# check that London and Portland appear only once\n",
    "city = geo.loc[:, 'city']\n",
    "geo.loc[(city == \"London\") | (city == \"Portland\") , \n",
    "        ['city', 'country', 'lat']]"
   ]
  },
  {
   "cell_type": "code",
   "execution_count": 75,
   "metadata": {
    "collapsed": false
   },
   "outputs": [],
   "source": [
    "# replace 'United States of America' -> 'USA'\n",
    "geo.loc[geo.loc[:, 'country'] == 'United States of America', 'country'] = 'USA'\n",
    "# replace 'United Kingdom' -> 'UK'"
   ]
  },
  {
   "cell_type": "code",
   "execution_count": 76,
   "metadata": {
    "collapsed": false
   },
   "outputs": [
    {
     "data": {
      "text/html": [
       "<div>\n",
       "<table border=\"1\" class=\"dataframe\">\n",
       "  <thead>\n",
       "    <tr style=\"text-align: right;\">\n",
       "      <th></th>\n",
       "      <th>Rank</th>\n",
       "      <th>City/Urban area</th>\n",
       "      <th>Country</th>\n",
       "      <th>GDP in US$bn 2005</th>\n",
       "      <th>city</th>\n",
       "      <th>lat</th>\n",
       "      <th>pop</th>\n",
       "      <th>country</th>\n",
       "    </tr>\n",
       "  </thead>\n",
       "  <tbody>\n",
       "    <tr>\n",
       "      <th>0</th>\n",
       "      <td>1</td>\n",
       "      <td>Tokyo</td>\n",
       "      <td>Japan</td>\n",
       "      <td>1191</td>\n",
       "      <td>Tokyo</td>\n",
       "      <td>35.685017</td>\n",
       "      <td>22006299.5</td>\n",
       "      <td>Japan</td>\n",
       "    </tr>\n",
       "    <tr>\n",
       "      <th>1</th>\n",
       "      <td>2</td>\n",
       "      <td>New York</td>\n",
       "      <td>USA</td>\n",
       "      <td>1133</td>\n",
       "      <td>New York</td>\n",
       "      <td>40.749979</td>\n",
       "      <td>13524139.0</td>\n",
       "      <td>USA</td>\n",
       "    </tr>\n",
       "    <tr>\n",
       "      <th>2</th>\n",
       "      <td>3</td>\n",
       "      <td>Los Angeles</td>\n",
       "      <td>USA</td>\n",
       "      <td>639</td>\n",
       "      <td>Los Angeles</td>\n",
       "      <td>33.989978</td>\n",
       "      <td>8097410.0</td>\n",
       "      <td>USA</td>\n",
       "    </tr>\n",
       "    <tr>\n",
       "      <th>3</th>\n",
       "      <td>4</td>\n",
       "      <td>Chicago</td>\n",
       "      <td>USA</td>\n",
       "      <td>460</td>\n",
       "      <td>Chicago</td>\n",
       "      <td>41.829991</td>\n",
       "      <td>5915976.0</td>\n",
       "      <td>USA</td>\n",
       "    </tr>\n",
       "    <tr>\n",
       "      <th>4</th>\n",
       "      <td>5</td>\n",
       "      <td>Paris</td>\n",
       "      <td>France</td>\n",
       "      <td>460</td>\n",
       "      <td>Paris</td>\n",
       "      <td>48.866693</td>\n",
       "      <td>4957588.5</td>\n",
       "      <td>France</td>\n",
       "    </tr>\n",
       "  </tbody>\n",
       "</table>\n",
       "</div>"
      ],
      "text/plain": [
       "   Rank City/Urban area Country  GDP in US$bn 2005         city        lat  \\\n",
       "0     1           Tokyo   Japan               1191        Tokyo  35.685017   \n",
       "1     2        New York     USA               1133     New York  40.749979   \n",
       "2     3     Los Angeles     USA                639  Los Angeles  33.989978   \n",
       "3     4         Chicago     USA                460      Chicago  41.829991   \n",
       "4     5           Paris  France                460        Paris  48.866693   \n",
       "\n",
       "          pop country  \n",
       "0  22006299.5   Japan  \n",
       "1  13524139.0     USA  \n",
       "2   8097410.0     USA  \n",
       "3   5915976.0     USA  \n",
       "4   4957588.5  France  "
      ]
     },
     "execution_count": 76,
     "metadata": {},
     "output_type": "execute_result"
    }
   ],
   "source": [
    "# combine the two tables\n",
    "# merge the data frames on city and country\n",
    "df=pandas.merge(gdp,geo, left_on=['City/Urban area', 'Country'],right_on=['city','country'])\n",
    "df.head()"
   ]
  },
  {
   "cell_type": "code",
   "execution_count": 77,
   "metadata": {
    "collapsed": false
   },
   "outputs": [],
   "source": [
    "#Calculate GDP per capita\n",
    "df['GDPperCap']=df['GDP in US$bn 2005']*1000000000/df['pop']"
   ]
  },
  {
   "cell_type": "code",
   "execution_count": 78,
   "metadata": {
    "collapsed": false
   },
   "outputs": [
    {
     "data": {
      "text/html": [
       "<div>\n",
       "<table border=\"1\" class=\"dataframe\">\n",
       "  <thead>\n",
       "    <tr style=\"text-align: right;\">\n",
       "      <th></th>\n",
       "      <th>Rank</th>\n",
       "      <th>City/Urban area</th>\n",
       "      <th>Country</th>\n",
       "      <th>GDP in US$bn 2005</th>\n",
       "      <th>city</th>\n",
       "      <th>lat</th>\n",
       "      <th>pop</th>\n",
       "      <th>country</th>\n",
       "      <th>GDPperCap</th>\n",
       "    </tr>\n",
       "  </thead>\n",
       "  <tbody>\n",
       "    <tr>\n",
       "      <th>0</th>\n",
       "      <td>1</td>\n",
       "      <td>Tokyo</td>\n",
       "      <td>Japan</td>\n",
       "      <td>1191</td>\n",
       "      <td>Tokyo</td>\n",
       "      <td>35.685017</td>\n",
       "      <td>22006299.5</td>\n",
       "      <td>Japan</td>\n",
       "      <td>54120.866618</td>\n",
       "    </tr>\n",
       "    <tr>\n",
       "      <th>1</th>\n",
       "      <td>2</td>\n",
       "      <td>New York</td>\n",
       "      <td>USA</td>\n",
       "      <td>1133</td>\n",
       "      <td>New York</td>\n",
       "      <td>40.749979</td>\n",
       "      <td>13524139.0</td>\n",
       "      <td>USA</td>\n",
       "      <td>83776.128003</td>\n",
       "    </tr>\n",
       "    <tr>\n",
       "      <th>2</th>\n",
       "      <td>3</td>\n",
       "      <td>Los Angeles</td>\n",
       "      <td>USA</td>\n",
       "      <td>639</td>\n",
       "      <td>Los Angeles</td>\n",
       "      <td>33.989978</td>\n",
       "      <td>8097410.0</td>\n",
       "      <td>USA</td>\n",
       "      <td>78914.121923</td>\n",
       "    </tr>\n",
       "    <tr>\n",
       "      <th>3</th>\n",
       "      <td>4</td>\n",
       "      <td>Chicago</td>\n",
       "      <td>USA</td>\n",
       "      <td>460</td>\n",
       "      <td>Chicago</td>\n",
       "      <td>41.829991</td>\n",
       "      <td>5915976.0</td>\n",
       "      <td>USA</td>\n",
       "      <td>77755.555465</td>\n",
       "    </tr>\n",
       "    <tr>\n",
       "      <th>4</th>\n",
       "      <td>5</td>\n",
       "      <td>Paris</td>\n",
       "      <td>France</td>\n",
       "      <td>460</td>\n",
       "      <td>Paris</td>\n",
       "      <td>48.866693</td>\n",
       "      <td>4957588.5</td>\n",
       "      <td>France</td>\n",
       "      <td>92787.047574</td>\n",
       "    </tr>\n",
       "    <tr>\n",
       "      <th>6</th>\n",
       "      <td>9</td>\n",
       "      <td>Philadelphia</td>\n",
       "      <td>USA</td>\n",
       "      <td>312</td>\n",
       "      <td>Philadelphia</td>\n",
       "      <td>39.999973</td>\n",
       "      <td>3504775.0</td>\n",
       "      <td>USA</td>\n",
       "      <td>89021.406510</td>\n",
       "    </tr>\n",
       "    <tr>\n",
       "      <th>7</th>\n",
       "      <td>11</td>\n",
       "      <td>Boston</td>\n",
       "      <td>USA</td>\n",
       "      <td>290</td>\n",
       "      <td>Boston</td>\n",
       "      <td>42.329960</td>\n",
       "      <td>2528070.5</td>\n",
       "      <td>USA</td>\n",
       "      <td>114711.990825</td>\n",
       "    </tr>\n",
       "    <tr>\n",
       "      <th>9</th>\n",
       "      <td>16</td>\n",
       "      <td>Atlanta</td>\n",
       "      <td>USA</td>\n",
       "      <td>236</td>\n",
       "      <td>Atlanta</td>\n",
       "      <td>33.830014</td>\n",
       "      <td>2464454.0</td>\n",
       "      <td>USA</td>\n",
       "      <td>95761.576398</td>\n",
       "    </tr>\n",
       "    <tr>\n",
       "      <th>10</th>\n",
       "      <td>17</td>\n",
       "      <td>Houston</td>\n",
       "      <td>USA</td>\n",
       "      <td>235</td>\n",
       "      <td>Houston</td>\n",
       "      <td>29.819974</td>\n",
       "      <td>4053287.0</td>\n",
       "      <td>USA</td>\n",
       "      <td>57977.636422</td>\n",
       "    </tr>\n",
       "    <tr>\n",
       "      <th>11</th>\n",
       "      <td>18</td>\n",
       "      <td>Miami</td>\n",
       "      <td>USA</td>\n",
       "      <td>231</td>\n",
       "      <td>Miami</td>\n",
       "      <td>25.787611</td>\n",
       "      <td>2983947.0</td>\n",
       "      <td>USA</td>\n",
       "      <td>77414.243618</td>\n",
       "    </tr>\n",
       "    <tr>\n",
       "      <th>15</th>\n",
       "      <td>22</td>\n",
       "      <td>Detroit</td>\n",
       "      <td>USA</td>\n",
       "      <td>203</td>\n",
       "      <td>Detroit</td>\n",
       "      <td>42.329960</td>\n",
       "      <td>2526135.0</td>\n",
       "      <td>USA</td>\n",
       "      <td>80359.917423</td>\n",
       "    </tr>\n",
       "    <tr>\n",
       "      <th>16</th>\n",
       "      <td>23</td>\n",
       "      <td>Madrid</td>\n",
       "      <td>Spain</td>\n",
       "      <td>188</td>\n",
       "      <td>Madrid</td>\n",
       "      <td>40.400026</td>\n",
       "      <td>2808718.5</td>\n",
       "      <td>Spain</td>\n",
       "      <td>66934.440030</td>\n",
       "    </tr>\n",
       "    <tr>\n",
       "      <th>17</th>\n",
       "      <td>24</td>\n",
       "      <td>Seattle</td>\n",
       "      <td>USA</td>\n",
       "      <td>186</td>\n",
       "      <td>Seattle</td>\n",
       "      <td>47.570002</td>\n",
       "      <td>1821684.5</td>\n",
       "      <td>USA</td>\n",
       "      <td>102103.300544</td>\n",
       "    </tr>\n",
       "    <tr>\n",
       "      <th>20</th>\n",
       "      <td>27</td>\n",
       "      <td>Phoenix</td>\n",
       "      <td>USA</td>\n",
       "      <td>156</td>\n",
       "      <td>Phoenix</td>\n",
       "      <td>33.539980</td>\n",
       "      <td>2436022.5</td>\n",
       "      <td>USA</td>\n",
       "      <td>64038.817375</td>\n",
       "    </tr>\n",
       "    <tr>\n",
       "      <th>21</th>\n",
       "      <td>28</td>\n",
       "      <td>Minneapolis</td>\n",
       "      <td>USA</td>\n",
       "      <td>155</td>\n",
       "      <td>Minneapolis</td>\n",
       "      <td>44.979979</td>\n",
       "      <td>1491886.5</td>\n",
       "      <td>USA</td>\n",
       "      <td>103895.303027</td>\n",
       "    </tr>\n",
       "    <tr>\n",
       "      <th>22</th>\n",
       "      <td>29</td>\n",
       "      <td>San Diego</td>\n",
       "      <td>USA</td>\n",
       "      <td>153</td>\n",
       "      <td>San Diego</td>\n",
       "      <td>32.820024</td>\n",
       "      <td>1938570.5</td>\n",
       "      <td>USA</td>\n",
       "      <td>78924.135078</td>\n",
       "    </tr>\n",
       "    <tr>\n",
       "      <th>26</th>\n",
       "      <td>33</td>\n",
       "      <td>Melbourne</td>\n",
       "      <td>Australia</td>\n",
       "      <td>135</td>\n",
       "      <td>Melbourne</td>\n",
       "      <td>-37.820031</td>\n",
       "      <td>2131812.5</td>\n",
       "      <td>Australia</td>\n",
       "      <td>63326.394793</td>\n",
       "    </tr>\n",
       "    <tr>\n",
       "      <th>28</th>\n",
       "      <td>35</td>\n",
       "      <td>Denver</td>\n",
       "      <td>USA</td>\n",
       "      <td>130</td>\n",
       "      <td>Denver</td>\n",
       "      <td>39.739188</td>\n",
       "      <td>1930799.5</td>\n",
       "      <td>USA</td>\n",
       "      <td>67329.621745</td>\n",
       "    </tr>\n",
       "    <tr>\n",
       "      <th>31</th>\n",
       "      <td>38</td>\n",
       "      <td>Rome</td>\n",
       "      <td>Italy</td>\n",
       "      <td>123</td>\n",
       "      <td>Rome</td>\n",
       "      <td>41.895956</td>\n",
       "      <td>1687226.0</td>\n",
       "      <td>Italy</td>\n",
       "      <td>72900.725807</td>\n",
       "    </tr>\n",
       "    <tr>\n",
       "      <th>32</th>\n",
       "      <td>40</td>\n",
       "      <td>Milan</td>\n",
       "      <td>Italy</td>\n",
       "      <td>115</td>\n",
       "      <td>Milan</td>\n",
       "      <td>45.469975</td>\n",
       "      <td>2125830.5</td>\n",
       "      <td>Italy</td>\n",
       "      <td>54096.504872</td>\n",
       "    </tr>\n",
       "    <tr>\n",
       "      <th>33</th>\n",
       "      <td>41</td>\n",
       "      <td>Baltimore</td>\n",
       "      <td>USA</td>\n",
       "      <td>110</td>\n",
       "      <td>Baltimore</td>\n",
       "      <td>39.299990</td>\n",
       "      <td>1432946.0</td>\n",
       "      <td>USA</td>\n",
       "      <td>76764.930430</td>\n",
       "    </tr>\n",
       "    <tr>\n",
       "      <th>41</th>\n",
       "      <td>54</td>\n",
       "      <td>Cleveland</td>\n",
       "      <td>USA</td>\n",
       "      <td>90</td>\n",
       "      <td>Cleveland</td>\n",
       "      <td>41.469987</td>\n",
       "      <td>1169757.0</td>\n",
       "      <td>USA</td>\n",
       "      <td>76939.056573</td>\n",
       "    </tr>\n",
       "    <tr>\n",
       "      <th>44</th>\n",
       "      <td>57</td>\n",
       "      <td>Portland</td>\n",
       "      <td>USA</td>\n",
       "      <td>87</td>\n",
       "      <td>Portland</td>\n",
       "      <td>45.520024</td>\n",
       "      <td>1207756.5</td>\n",
       "      <td>USA</td>\n",
       "      <td>72034.387726</td>\n",
       "    </tr>\n",
       "    <tr>\n",
       "      <th>46</th>\n",
       "      <td>61</td>\n",
       "      <td>Pittsburgh</td>\n",
       "      <td>USA</td>\n",
       "      <td>80</td>\n",
       "      <td>Pittsburgh</td>\n",
       "      <td>40.429999</td>\n",
       "      <td>1535267.5</td>\n",
       "      <td>USA</td>\n",
       "      <td>52108.183102</td>\n",
       "    </tr>\n",
       "    <tr>\n",
       "      <th>49</th>\n",
       "      <td>64</td>\n",
       "      <td>Vancouver</td>\n",
       "      <td>Canada</td>\n",
       "      <td>79</td>\n",
       "      <td>Vancouver</td>\n",
       "      <td>49.273417</td>\n",
       "      <td>1458415.0</td>\n",
       "      <td>Canada</td>\n",
       "      <td>54168.395141</td>\n",
       "    </tr>\n",
       "    <tr>\n",
       "      <th>52</th>\n",
       "      <td>67</td>\n",
       "      <td>Stockholm</td>\n",
       "      <td>Sweden</td>\n",
       "      <td>76</td>\n",
       "      <td>Stockholm</td>\n",
       "      <td>59.350760</td>\n",
       "      <td>1258654.5</td>\n",
       "      <td>Sweden</td>\n",
       "      <td>60381.939603</td>\n",
       "    </tr>\n",
       "    <tr>\n",
       "      <th>62</th>\n",
       "      <td>79</td>\n",
       "      <td>Lyon</td>\n",
       "      <td>France</td>\n",
       "      <td>56</td>\n",
       "      <td>Lyon</td>\n",
       "      <td>45.770009</td>\n",
       "      <td>947658.5</td>\n",
       "      <td>France</td>\n",
       "      <td>59093.017158</td>\n",
       "    </tr>\n",
       "    <tr>\n",
       "      <th>71</th>\n",
       "      <td>90</td>\n",
       "      <td>Helsinki</td>\n",
       "      <td>Finland</td>\n",
       "      <td>43</td>\n",
       "      <td>Helsinki</td>\n",
       "      <td>60.175563</td>\n",
       "      <td>836728.5</td>\n",
       "      <td>Finland</td>\n",
       "      <td>51390.624318</td>\n",
       "    </tr>\n",
       "    <tr>\n",
       "      <th>76</th>\n",
       "      <td>96</td>\n",
       "      <td>Auckland</td>\n",
       "      <td>New Zealand</td>\n",
       "      <td>41</td>\n",
       "      <td>Auckland</td>\n",
       "      <td>-36.850013</td>\n",
       "      <td>759510.0</td>\n",
       "      <td>New Zealand</td>\n",
       "      <td>53982.172717</td>\n",
       "    </tr>\n",
       "    <tr>\n",
       "      <th>85</th>\n",
       "      <td>109</td>\n",
       "      <td>Prague</td>\n",
       "      <td>Czech Republic</td>\n",
       "      <td>36</td>\n",
       "      <td>Prague</td>\n",
       "      <td>50.083337</td>\n",
       "      <td>582043.5</td>\n",
       "      <td>Czech Republic</td>\n",
       "      <td>61851.047216</td>\n",
       "    </tr>\n",
       "  </tbody>\n",
       "</table>\n",
       "</div>"
      ],
      "text/plain": [
       "    Rank City/Urban area         Country  GDP in US$bn 2005          city  \\\n",
       "0      1           Tokyo           Japan               1191         Tokyo   \n",
       "1      2        New York             USA               1133      New York   \n",
       "2      3     Los Angeles             USA                639   Los Angeles   \n",
       "3      4         Chicago             USA                460       Chicago   \n",
       "4      5           Paris          France                460         Paris   \n",
       "6      9    Philadelphia             USA                312  Philadelphia   \n",
       "7     11          Boston             USA                290        Boston   \n",
       "9     16         Atlanta             USA                236       Atlanta   \n",
       "10    17         Houston             USA                235       Houston   \n",
       "11    18           Miami             USA                231         Miami   \n",
       "15    22         Detroit             USA                203       Detroit   \n",
       "16    23          Madrid           Spain                188        Madrid   \n",
       "17    24         Seattle             USA                186       Seattle   \n",
       "20    27         Phoenix             USA                156       Phoenix   \n",
       "21    28     Minneapolis             USA                155   Minneapolis   \n",
       "22    29       San Diego             USA                153     San Diego   \n",
       "26    33       Melbourne       Australia                135     Melbourne   \n",
       "28    35          Denver             USA                130        Denver   \n",
       "31    38            Rome           Italy                123          Rome   \n",
       "32    40           Milan           Italy                115         Milan   \n",
       "33    41       Baltimore             USA                110     Baltimore   \n",
       "41    54       Cleveland             USA                 90     Cleveland   \n",
       "44    57        Portland             USA                 87      Portland   \n",
       "46    61      Pittsburgh             USA                 80    Pittsburgh   \n",
       "49    64       Vancouver          Canada                 79     Vancouver   \n",
       "52    67       Stockholm          Sweden                 76     Stockholm   \n",
       "62    79            Lyon          France                 56          Lyon   \n",
       "71    90        Helsinki         Finland                 43      Helsinki   \n",
       "76    96        Auckland     New Zealand                 41      Auckland   \n",
       "85   109          Prague  Czech Republic                 36        Prague   \n",
       "\n",
       "          lat         pop         country      GDPperCap  \n",
       "0   35.685017  22006299.5           Japan   54120.866618  \n",
       "1   40.749979  13524139.0             USA   83776.128003  \n",
       "2   33.989978   8097410.0             USA   78914.121923  \n",
       "3   41.829991   5915976.0             USA   77755.555465  \n",
       "4   48.866693   4957588.5          France   92787.047574  \n",
       "6   39.999973   3504775.0             USA   89021.406510  \n",
       "7   42.329960   2528070.5             USA  114711.990825  \n",
       "9   33.830014   2464454.0             USA   95761.576398  \n",
       "10  29.819974   4053287.0             USA   57977.636422  \n",
       "11  25.787611   2983947.0             USA   77414.243618  \n",
       "15  42.329960   2526135.0             USA   80359.917423  \n",
       "16  40.400026   2808718.5           Spain   66934.440030  \n",
       "17  47.570002   1821684.5             USA  102103.300544  \n",
       "20  33.539980   2436022.5             USA   64038.817375  \n",
       "21  44.979979   1491886.5             USA  103895.303027  \n",
       "22  32.820024   1938570.5             USA   78924.135078  \n",
       "26 -37.820031   2131812.5       Australia   63326.394793  \n",
       "28  39.739188   1930799.5             USA   67329.621745  \n",
       "31  41.895956   1687226.0           Italy   72900.725807  \n",
       "32  45.469975   2125830.5           Italy   54096.504872  \n",
       "33  39.299990   1432946.0             USA   76764.930430  \n",
       "41  41.469987   1169757.0             USA   76939.056573  \n",
       "44  45.520024   1207756.5             USA   72034.387726  \n",
       "46  40.429999   1535267.5             USA   52108.183102  \n",
       "49  49.273417   1458415.0          Canada   54168.395141  \n",
       "52  59.350760   1258654.5          Sweden   60381.939603  \n",
       "62  45.770009    947658.5          France   59093.017158  \n",
       "71  60.175563    836728.5         Finland   51390.624318  \n",
       "76 -36.850013    759510.0     New Zealand   53982.172717  \n",
       "85  50.083337    582043.5  Czech Republic   61851.047216  "
      ]
     },
     "execution_count": 78,
     "metadata": {},
     "output_type": "execute_result"
    }
   ],
   "source": [
    "#Show cities with GDP per capita > 50k\n",
    "df[df['GDPperCap'] > 50000]"
   ]
  },
  {
   "cell_type": "code",
   "execution_count": null,
   "metadata": {
    "collapsed": true
   },
   "outputs": [],
   "source": []
  },
  {
   "cell_type": "code",
   "execution_count": 79,
   "metadata": {
    "collapsed": false
   },
   "outputs": [
    {
     "data": {
      "image/png": "[encoded data removed]",
      "text/plain": [
       "<matplotlib.figure.Figure at 0xa4b02b0>"
      ]
     },
     "metadata": {},
     "output_type": "display_data"
    }
   ],
   "source": [
    "# create scatter plot with size of \n",
    "% matplotlib inline\n",
    "from matplotlib import pylab, pyplot\n",
    "# nicer plot size\n",
    "pylab.rcParams['figure.figsize'] = (12, 6)\n",
    "fig=pyplot.figure()\n",
    "p=ax = fig.add_subplot(111)\n",
    "\n",
    "pyplot.scatter(df['lat'],df['GDPperCap'],s=df['pop']/50000,alpha=0.4)\n",
    "\n",
    "# annotate \n",
    "for city in ('Paris', 'Melbourne', 'Auckland', 'Moscow', 'Singapore', 'Sydney', 'Boston'):\n",
    "    pyplot.annotate(city, xy=(df[df['city']==city]['lat'], df[df['city']==city]['GDPperCap']))\n",
    "\n",
    "# plot labels\n",
    "p.set_xlabel('Latitude')\n",
    "p.set_ylabel('GDP per capita')\n",
    "pyplot.show()"
   ]
  },
  {
   "cell_type": "code",
   "execution_count": null,
   "metadata": {
    "collapsed": true
   },
   "outputs": [],
   "source": []
  },
  {
   "cell_type": "code",
   "execution_count": null,
   "metadata": {
    "collapsed": true
   },
   "outputs": [],
   "source": []
  },
  {
   "cell_type": "code",
   "execution_count": null,
   "metadata": {
    "collapsed": true
   },
   "outputs": [],
   "source": []
  }
 ],
 "metadata": {
  "anaconda-cloud": {},
  "kernelspec": {
   "display_name": "Python 3",
   "language": "python",
   "name": "python3"
  },
  "language_info": {
   "codemirror_mode": {
    "name": "ipython",
    "version": 3
   },
   "file_extension": ".py",
   "mimetype": "text/x-python",
   "name": "python",
   "nbconvert_exporter": "python",
   "pygments_lexer": "ipython3",
   "version": "3.5.1"
  }
 },
 "nbformat": 4,
 "nbformat_minor": 0
}
