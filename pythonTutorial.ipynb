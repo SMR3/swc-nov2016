{
 "cells": [
  {
   "cell_type": "markdown",
   "metadata": {},
   "source": [
    "# Programming in Python\n"
   ]
  },
  {
   "cell_type": "markdown",
   "metadata": {},
   "source": [
    "## 1. Getting to know Python"
   ]
  },
  {
   "cell_type": "markdown",
   "metadata": {},
   "source": [
    "### Different ways to interact with Python\n",
    " 1. Using the interpreter (for instance `ipython`)\n",
    " 2. Using the `jupyter notebook`\n",
    " 3. Writing and executing programs (`python myProgram.py`)"
   ]
  },
  {
   "cell_type": "markdown",
   "metadata": {},
   "source": [
    "### Python language elements"
   ]
  },
  {
   "cell_type": "markdown",
   "metadata": {},
   "source": [
    " #### Python as a calculator \n",
    "   * operations \n",
    "   * math functions"
   ]
  },
  {
   "cell_type": "markdown",
   "metadata": {},
   "source": [
    "#### numbers \n",
    " * integers\n",
    " * floats"
   ]
  },
  {
   "cell_type": "markdown",
   "metadata": {},
   "source": [
    "#### working with strings \n",
    " * single line\n",
    " * extending obver several lines\n",
    " * converting numbers to string"
   ]
  },
  {
   "cell_type": "markdown",
   "metadata": {},
   "source": [
    "#### packing things together -- lists and tuples\n",
    " * length\n",
    " * indexing \n",
    " * slicing"
   ]
  },
  {
   "cell_type": "markdown",
   "metadata": {},
   "source": [
    "#### accessing values by keys -- dictionaries\n",
    " * example"
   ]
  },
  {
   "cell_type": "markdown",
   "metadata": {},
   "source": [
    " #### storing data in **variables**\n",
    "  * setting and retrieving "
   ]
  },
  {
   "cell_type": "markdown",
   "metadata": {},
   "source": [
    " #### printing\n",
    "  * default print\n",
    "  * formatted print"
   ]
  },
  {
   "cell_type": "markdown",
   "metadata": {},
   "source": [
    " #### **Identation** is part of the language!\n",
    "   * loops\n",
    "   * conditionals\n",
    "   * scoping"
   ]
  },
  {
   "cell_type": "markdown",
   "metadata": {},
   "source": [
    "#### functions"
   ]
  },
  {
   "cell_type": "markdown",
   "metadata": {},
   "source": [
    "#### comments"
   ]
  },
  {
   "cell_type": "markdown",
   "metadata": {},
   "source": [
    "### Common pitfalls\n",
    " * watch out for indentation\n",
    " * comparing floats may yield unintented consequences\n",
    " * integer division (//) vs division (/)\n",
    " * in place vs function that return new objects"
   ]
  },
  {
   "cell_type": "markdown",
   "metadata": {},
   "source": [
    "## 2. Python with batteries charged"
   ]
  },
  {
   "cell_type": "markdown",
   "metadata": {},
   "source": [
    "### Numpy for fast array operations (Matlab and IDL users pay attention)"
   ]
  },
  {
   "cell_type": "markdown",
   "metadata": {},
   "source": [
    "$$\\frac{\\partial f}{\\partial t} + u \\frac{\\partial f}{\\partial x} = 0$$\n",
    "$$f_i^{t + \\Delta t} = (1 - C) f_i^t + C f_{i-1}^t$$ with $$C \\equiv \\frac{u \\Delta t}{\\Delta x}$$\n",
    "\n",
    "Up-wind implementation:\n",
    "\n",
    "`newf[i] = (1 - c)*f[i] + c*f[i - 1]` for $i \\in 1...n-1$\n",
    "\n",
    "`newf[0] = (1 - c)*f[0] + c*f[-1]` (assuming periodic boundary conditions)"
   ]
  },
  {
   "cell_type": "code",
   "execution_count": 17,
   "metadata": {
    "collapsed": false
   },
   "outputs": [],
   "source": [
    "import numpy\n",
    "\n",
    "# code to advance function f starting from initial \n",
    "# condition f0\n",
    "#\n",
    "def advance(f0, c, nt=10):\n",
    "    \"\"\"\n",
    "    Advance the function \n",
    "    f0  initial condition\n",
    "    c   Courant coefficient\n",
    "    nt  number of time steps\n",
    "    \"\"\"\n",
    "    pass\n",
    "\n",
    "\n",
    "n = 1000\n",
    "f0 = numpy.zeros([n], numpy.float64) # initial condition\n",
    "f0[0:n//4] = 1.\n",
    "advance(f0, 0.99, nt=500)\n"
   ]
  },
  {
   "cell_type": "markdown",
   "metadata": {},
   "source": [
    "### Pandas for data analysis (R users pay attention)"
   ]
  },
  {
   "cell_type": "markdown",
   "metadata": {},
   "source": [
    "What the relation between prosperity and latitude?\n",
    " * Look at GDP data for a number of cities around the world\n",
    " * Get the population and the latitude data for these cities\n",
    " * Compute the GDP per capita for each city\n",
    " * plot GDP per capita data against the latitude of each city"
   ]
  },
  {
   "cell_type": "code",
   "execution_count": 4,
   "metadata": {
    "collapsed": false
   },
   "outputs": [],
   "source": [
    "import pandas \n",
    "gdp = pandas.read_csv('http://bit.ly/citiesGDP')"
   ]
  },
  {
   "cell_type": "code",
   "execution_count": null,
   "metadata": {
    "collapsed": true
   },
   "outputs": [],
   "source": [
    "# show the first few rows"
   ]
  },
  {
   "cell_type": "code",
   "execution_count": 5,
   "metadata": {
    "collapsed": false
   },
   "outputs": [],
   "source": [
    "# renaming columns"
   ]
  },
  {
   "cell_type": "code",
   "execution_count": 5,
   "metadata": {
    "collapsed": false
   },
   "outputs": [],
   "source": [
    "# select the cities for which the GDP > $1000bn"
   ]
  },
  {
   "cell_type": "code",
   "execution_count": 6,
   "metadata": {
    "collapsed": false
   },
   "outputs": [],
   "source": [
    "geo = pandas.read_csv('http://bit.ly/world_cities')"
   ]
  },
  {
   "cell_type": "code",
   "execution_count": 7,
   "metadata": {
    "collapsed": false
   },
   "outputs": [],
   "source": [
    "# remove some columns"
   ]
  },
  {
   "cell_type": "code",
   "execution_count": 8,
   "metadata": {
    "collapsed": false
   },
   "outputs": [],
   "source": [
    "# list the cities in New Zealand with more than 100000 inhabitants"
   ]
  },
  {
   "cell_type": "code",
   "execution_count": 9,
   "metadata": {
    "collapsed": false
   },
   "outputs": [],
   "source": [
    "# sort the NZ cities by population"
   ]
  },
  {
   "cell_type": "code",
   "execution_count": 10,
   "metadata": {
    "collapsed": false
   },
   "outputs": [],
   "source": [
    "# get all the cities named \"London\""
   ]
  },
  {
   "cell_type": "code",
   "execution_count": 11,
   "metadata": {
    "collapsed": false
   },
   "outputs": [],
   "source": [
    "# get all the cities named \"Portland\" "
   ]
  },
  {
   "cell_type": "code",
   "execution_count": 12,
   "metadata": {
    "collapsed": true
   },
   "outputs": [],
   "source": [
    "# remove some rows in the datasets"
   ]
  },
  {
   "cell_type": "code",
   "execution_count": 13,
   "metadata": {
    "collapsed": false
   },
   "outputs": [],
   "source": [
    "# check that Portland appears only once"
   ]
  },
  {
   "cell_type": "code",
   "execution_count": 14,
   "metadata": {
    "collapsed": false
   },
   "outputs": [],
   "source": [
    "# combine the two tables\n",
    "# beware that some cities appear multiple times across countries\n",
    "gdp_per_capita = []\n",
    "lats = []\n",
    "city_names = []\n",
    "countries = []\n",
    "\n",
    "# iterate over the rows of gdp\n",
    "for row in gdp.iterrows():\n",
    "    pass"
   ]
  },
  {
   "cell_type": "code",
   "execution_count": 15,
   "metadata": {
    "collapsed": false
   },
   "outputs": [],
   "source": [
    "# create a new data frame with data combined from two tables"
   ]
  },
  {
   "cell_type": "code",
   "execution_count": 16,
   "metadata": {
    "collapsed": false
   },
   "outputs": [],
   "source": [
    "# create scatter plot \n",
    "% matplotlib inline\n",
    "from matplotlib import pylab\n",
    "# nicer plot size\n",
    "pylab.rcParams['figure.figsize'] = (15, 6)\n"
   ]
  },
  {
   "cell_type": "code",
   "execution_count": null,
   "metadata": {
    "collapsed": true
   },
   "outputs": [],
   "source": []
  }
 ],
 "metadata": {
  "anaconda-cloud": {},
  "kernelspec": {
   "display_name": "Python [Root]",
   "language": "python",
   "name": "Python [Root]"
  },
  "language_info": {
   "codemirror_mode": {
    "name": "ipython",
    "version": 3
   },
   "file_extension": ".py",
   "mimetype": "text/x-python",
   "name": "python",
   "nbconvert_exporter": "python",
   "pygments_lexer": "ipython3",
   "version": "3.5.0rc4"
  }
 },
 "nbformat": 4,
 "nbformat_minor": 0
}
